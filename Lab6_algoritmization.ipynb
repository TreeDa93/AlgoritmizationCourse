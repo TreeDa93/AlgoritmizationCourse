{
  "nbformat": 4,
  "nbformat_minor": 0,
  "metadata": {
    "colab": {
      "name": "Lab6_algoritmization.ipynb",
      "provenance": [],
      "authorship_tag": "ABX9TyMlL2uAYtS5KUcwryjrAORf",
      "include_colab_link": true
    },
    "kernelspec": {
      "name": "python3",
      "display_name": "Python 3"
    },
    "language_info": {
      "name": "python"
    }
  },
  "cells": [
    {
      "cell_type": "markdown",
      "metadata": {
        "id": "view-in-github",
        "colab_type": "text"
      },
      "source": [
        "<a href=\"https://colab.research.google.com/github/TreeDa93/AlgoritmizationCourse/blob/main/Lab6_algoritmization.ipynb\" target=\"_parent\"><img src=\"https://colab.research.google.com/assets/colab-badge.svg\" alt=\"Open In Colab\"/></a>"
      ]
    },
    {
      "cell_type": "markdown",
      "metadata": {
        "id": "Ycfxkcc0i_H3"
      },
      "source": [
        "# Лабораторная работа № 6. Использование Python функций в расчетах инженерных задач. "
      ]
    },
    {
      "cell_type": "markdown",
      "metadata": {
        "id": "cjY9wY35Xfsf"
      },
      "source": [
        "Цель работы - создавать Python функции и применять их для расчета инженерных задач. "
      ]
    },
    {
      "cell_type": "markdown",
      "metadata": {
        "id": "nfue5KJxXhlo"
      },
      "source": [
        "Задачи:\n",
        "\n",
        "Задача 1. Написать код для решения задачи цепи постоянного тока. Сделать проверку решения с помощью логических выражений на основе баланса мощностей. \n",
        "\n",
        "Задача 2. Написать код для решения задачи цепи переменного тока, используя комплексные значения. Сделать проверку решения с помощью логических выражений на основе баланса мощностей. \n",
        "\n",
        "Задача 3. Расчитать цепь переменного тока, используя мгновенные значения тока и напряения с помощью типа перменных массив. Построить основные характеристики.  "
      ]
    },
    {
      "cell_type": "markdown",
      "metadata": {
        "id": "8lXsFESUkMZ-"
      },
      "source": [
        "##Именная функция\n",
        "Функция в python - объект, принимающий аргументы и возвращающий значение. Обычно функция определяется с помощью инструкции def. Команда return указывает, что возвращать при вызове этой функции. Python функция может возвращать любую переменную, объект и даже функцию. Пример простой функции: \n",
        "```\n",
        "def myFun(x, y):\n",
        "  return x+y\n",
        "```\n",
        "эту функцию можно вызвать с помощью:\n",
        "\n",
        "```\n",
        "myFun(10, 5)\n",
        "```\n",
        "\n"
      ]
    },
    {
      "cell_type": "code",
      "metadata": {
        "colab": {
          "base_uri": "https://localhost:8080/"
        },
        "id": "mbBtp2FjlzUi",
        "outputId": "8aa8976d-218c-4ec0-a4c3-324b41476674"
      },
      "source": [
        "def myFun(x, y):\n",
        "  return x+y\n",
        "myFun(10, 10)"
      ],
      "execution_count": null,
      "outputs": [
        {
          "output_type": "execute_result",
          "data": {
            "text/plain": [
              "20"
            ]
          },
          "metadata": {},
          "execution_count": 2
        }
      ]
    },
    {
      "cell_type": "markdown",
      "metadata": {
        "id": "vk7fewbBmlmS"
      },
      "source": [
        "Функция не обязательно должна иметь комнду `return`. \n",
        "\n",
        "```\n",
        "def helloWorldFun():\n",
        "  print('hello world')\n",
        "\n",
        "fun = helloWorldFun()\n",
        "print(fun)\n",
        "```\n",
        "Тогда переменная `fun` будет иметь переменную `None`. \n"
      ]
    },
    {
      "cell_type": "code",
      "metadata": {
        "colab": {
          "base_uri": "https://localhost:8080/"
        },
        "id": "6tmvE8T8m0y-",
        "outputId": "c49bbe07-df0c-41e4-be44-1419b1941b56"
      },
      "source": [
        "def helloWorldFun():\n",
        "  print('hello world')\n",
        "\n",
        "fun = helloWorldFun()\n",
        "print(fun)"
      ],
      "execution_count": null,
      "outputs": [
        {
          "output_type": "stream",
          "name": "stdout",
          "text": [
            "hello world\n",
            "None\n"
          ]
        }
      ]
    },
    {
      "cell_type": "markdown",
      "metadata": {
        "id": "a87Jo2DRom56"
      },
      "source": [
        "# Аргументы функции \n",
        "\n",
        "Функция может принимать произвольное количество аргументов. Стоит отметить, что есть обязательные аргументы функции и необязательные. Необязательнуые аргументы функции определяются через оператор присваивания при ее создании.\n",
        "\n",
        "```\n",
        "def newFun(a, b, c, d=5, e='test'):\n",
        "  print(a ,b, c, d, e)\n",
        "\n",
        "newFun(1, 4, 3, e='other')\n",
        "```"
      ]
    },
    {
      "cell_type": "code",
      "metadata": {
        "colab": {
          "base_uri": "https://localhost:8080/"
        },
        "id": "hnpLweotrCqT",
        "outputId": "353f265e-b685-4bad-b834-88d5869ec91d"
      },
      "source": [
        "def newFun(a, b, c, d=5, e='test'):\n",
        "  print(a,b, c, d, e)\n",
        "\n",
        "newFun(1, 4, 3, e='other')"
      ],
      "execution_count": null,
      "outputs": [
        {
          "output_type": "stream",
          "name": "stdout",
          "text": [
            "1 4 3 5 other\n"
          ]
        }
      ]
    },
    {
      "cell_type": "markdown",
      "metadata": {
        "id": "daSKvigIrQNy"
      },
      "source": [
        "Можно передавать произвольное количество неименнованных и именнованных аргументов. Для произвольного количества не именнованных аргументов используют обозначение `*args`, а для именнованных `**kwargs`. \n",
        "Тогда в теле цикла будут достпные переменные args (это кортеж с переданными данными) и kwargs (это словарь, где ключ название переменной, а значение словаря это значение переданной переменной). \n",
        "\n",
        "\n",
        "\n",
        "```\n",
        "def newFun(*args, **kwargs):\n",
        "  print(args, kwargs)\n",
        "  return args, kwarg\n",
        "\n",
        "newFun(1, 'dva' (32, 33), k=2, d='tri')\n",
        "```\n",
        "\n"
      ]
    },
    {
      "cell_type": "code",
      "metadata": {
        "colab": {
          "base_uri": "https://localhost:8080/"
        },
        "id": "iof1ANRnsZZ8",
        "outputId": "5087cf17-5934-4fb5-87e6-7513d82b5473"
      },
      "source": [
        "def newFun(*args, **kwargs):\n",
        "  print(args, kwargs)\n",
        "  return args, kwargs\n",
        "\n",
        "newFun(1, 'dva', (32, 33), k=2, test='hello')"
      ],
      "execution_count": null,
      "outputs": [
        {
          "output_type": "stream",
          "name": "stdout",
          "text": [
            "(1, 'dva', (32, 33)) {'k': 2, 'test': 'hello'}\n"
          ]
        },
        {
          "output_type": "execute_result",
          "data": {
            "text/plain": [
              "((1, 'dva', (32, 33)), {'k': 2, 'test': 'hello'})"
            ]
          },
          "metadata": {},
          "execution_count": 68
        }
      ]
    },
    {
      "cell_type": "markdown",
      "metadata": {
        "id": "Szj6cgxCU2jo"
      },
      "source": [
        "Написать функцию, которая принимает значений амплитуды, времени и частоты и выдает расчитанное значение по формуле $u = U_{max} cos(2\\pi f_1 t)$. Построить график этой функции. "
      ]
    },
    {
      "cell_type": "code",
      "metadata": {
        "id": "WHbp7UYgQf7V"
      },
      "source": [
        "import math as ma\n",
        "import matplotlib.pyplot as plt\n",
        "u_max = 220\n",
        "f1 = 50"
      ],
      "execution_count": null,
      "outputs": []
    },
    {
      "cell_type": "code",
      "metadata": {
        "colab": {
          "base_uri": "https://localhost:8080/",
          "height": 283
        },
        "id": "085R3Tj_Riwy",
        "outputId": "cf31f56f-a867-434a-9543-a36153bb5496"
      },
      "source": [
        "def source(u_max, time, freq):\n",
        "  \"\"\"Эта функция расчитывает значение напряжения по заданным\n",
        "  параметрам:\n",
        "  u_max - амплитуда\n",
        "  time - текущее вермя,\n",
        "  freq -частота\"\"\"\n",
        "  return u_max * ma.cos(2* ma.pi * freq * time)\n",
        "\n",
        "data = ([source(u_max, t/1000, f1) for t in range(100)],\n",
        "     [t/1000 for t in range(100)])\n",
        "\n",
        "plt.plot(data[1], data[0])\n",
        "\n",
        "source.__doc__"
      ],
      "execution_count": null,
      "outputs": [
        {
          "output_type": "execute_result",
          "data": {
            "application/vnd.google.colaboratory.intrinsic+json": {
              "type": "string"
            },
            "text/plain": [
              "'Эта функция расчитывает значение напряжения по заданным\\n  параметрам:\\n  u_max - амплитуда\\n  time - текущее вермя,\\n  freq -частота'"
            ]
          },
          "metadata": {},
          "execution_count": 51
        },
        {
          "output_type": "display_data",
          "data": {
            "image/png": "[encoded data removed]",
            "text/plain": [
              "<Figure size 432x288 with 1 Axes>"
            ]
          },
          "metadata": {
            "needs_background": "light"
          }
        }
      ]
    },
    {
      "cell_type": "markdown",
      "metadata": {
        "id": "4Tf4FInXZKoq"
      },
      "source": [
        "1. Написать функцию для создания последовательности времени как тип перменной список. На входе эта переменная получает нулевое значение вермени, конечное значение времени и количество точек в этой последовательности. Эта функция должна выдавать список со значениями времени. \n",
        "\n",
        "2. Написать функцию которая выдает список со значениями, рассчитанными по формуле $u = U_{max} cos(2\\pi f_1 t)$. Аргументы у этой функции должны быть амплитуда, список значений времени и частота. "
      ]
    },
    {
      "cell_type": "code",
      "metadata": {
        "id": "IRLNTDD2VS_K"
      },
      "source": [
        "def createTimeList(t_start, t_stop, points=100):\n",
        "  time_list = [t_start]\n",
        "  step  = (t_stop - t_start)/ points\n",
        "  for point in range(points):\n",
        "    time_list.append(time_list[point]+step)\n",
        "\n",
        "  return time_list\n",
        "\n",
        "def source_list(u_max, time_list, freq):\n",
        "  data = []\n",
        "  for t in time_list:\n",
        "    value = u_max * ma.cos(2* ma.pi * freq * t)\n",
        "    data.append(value)\n",
        "  return data"
      ],
      "execution_count": null,
      "outputs": []
    },
    {
      "cell_type": "code",
      "metadata": {
        "colab": {
          "base_uri": "https://localhost:8080/",
          "height": 322
        },
        "id": "aLMeb0jlSr8s",
        "outputId": "0f5d92f9-9322-4ceb-8d59-e64bef4a5aa8"
      },
      "source": [
        "time_list = createTimeList(0, 0.1, points=100)\n",
        "data = source_list(u_max, time_list, f1)\n",
        "print(time_list, data)\n",
        "plt.plot(time_list, data)"
      ],
      "execution_count": null,
      "outputs": [
        {
          "output_type": "stream",
          "name": "stdout",
          "text": [
            "[0, 0.001, 0.002, 0.003, 0.004, 0.005, 0.006, 0.007, 0.008, 0.009000000000000001, 0.010000000000000002, 0.011000000000000003, 0.012000000000000004, 0.013000000000000005, 0.014000000000000005, 0.015000000000000006, 0.016000000000000007, 0.017000000000000008, 0.01800000000000001, 0.01900000000000001, 0.02000000000000001, 0.02100000000000001, 0.022000000000000013, 0.023000000000000013, 0.024000000000000014, 0.025000000000000015, 0.026000000000000016, 0.027000000000000017, 0.028000000000000018, 0.02900000000000002, 0.03000000000000002, 0.03100000000000002, 0.03200000000000002, 0.03300000000000002, 0.03400000000000002, 0.035000000000000024, 0.036000000000000025, 0.037000000000000026, 0.03800000000000003, 0.03900000000000003, 0.04000000000000003, 0.04100000000000003, 0.04200000000000003, 0.04300000000000003, 0.04400000000000003, 0.04500000000000003, 0.046000000000000034, 0.047000000000000035, 0.048000000000000036, 0.04900000000000004, 0.05000000000000004, 0.05100000000000004, 0.05200000000000004, 0.05300000000000004, 0.05400000000000004, 0.05500000000000004, 0.05600000000000004, 0.057000000000000044, 0.058000000000000045, 0.059000000000000045, 0.060000000000000046, 0.06100000000000005, 0.06200000000000005, 0.06300000000000004, 0.06400000000000004, 0.06500000000000004, 0.06600000000000004, 0.06700000000000005, 0.06800000000000005, 0.06900000000000005, 0.07000000000000005, 0.07100000000000005, 0.07200000000000005, 0.07300000000000005, 0.07400000000000005, 0.07500000000000005, 0.07600000000000005, 0.07700000000000005, 0.07800000000000006, 0.07900000000000006, 0.08000000000000006, 0.08100000000000006, 0.08200000000000006, 0.08300000000000006, 0.08400000000000006, 0.08500000000000006, 0.08600000000000006, 0.08700000000000006, 0.08800000000000006, 0.08900000000000007, 0.09000000000000007, 0.09100000000000007, 0.09200000000000007, 0.09300000000000007, 0.09400000000000007, 0.09500000000000007, 0.09600000000000007, 0.09700000000000007, 0.09800000000000007, 0.09900000000000007, 0.10000000000000007] [220.0, 209.23243358493377, 177.98373876248843, 129.31275550434407, 67.98373876248844, 1.3471114790620885e-14, -67.98373876248846, -129.31275550434407, -177.98373876248843, -209.2324335849338, -220.0, -209.23243358493372, -177.98373876248826, -129.31275550434378, -67.9837387624881, 3.5038516029619245e-13, 67.98373876248895, 129.31275550434452, 177.98373876248877, 209.23243358493403, 220.0, 209.23243358493355, 177.9837387624879, 129.31275550434336, 67.98373876248756, -1.1050399400510608e-12, -67.98373876248948, -129.31275550434498, -177.98373876248908, -209.23243358493423, -220.0, -209.23243358493335, -177.98373876248755, -129.3127555043429, -67.98373876248704, 1.8596947198059294e-12, 67.98373876249019, 129.31275550434557, 177.9837387624895, 209.23243358493437, 220.0, 209.2324335849331, 177.98373876248712, 129.31275550434228, 67.98373876248631, -2.223550994892743e-12, -67.98373876249055, -129.3127555043462, -177.98373876248996, -209.2324335849346, -220.0, -209.23243358493298, -177.98373876248667, -129.312755504342, -67.9837387624856, 2.587407269979556e-12, 67.98373876249126, 129.3127555043468, 177.98373876249016, 209.23243358493482, 220.0, 209.23243358493275, 177.98373876248624, 129.31275550434202, 67.98373876248561, -3.3420620497344245e-12, -67.98373876249124, -129.31275550434677, -177.98373876249016, -209.23243358493482, -220.0, -209.23243358493275, -177.98373876248624, -129.3127555043414, -67.9837387624849, 3.315119820153183e-12, 67.98373876249195, 129.3127555043474, 177.98373876249062, 209.23243358493505, 220.0, 209.23243358493252, 177.9837387624858, 129.3127555043408, 67.9837387624842, -4.0697745999080514e-12, -67.98373876249268, -129.3127555043474, -177.98373876249104, -209.23243358493528, -220.0, -209.2324335849323, -177.9837387624858, -129.31275550434017, -67.98373876248347, 4.824429379662919e-12, 67.98373876249339, 129.312755504348, 177.9837387624915, 209.23243358493528, 220.0]\n"
          ]
        },
        {
          "output_type": "execute_result",
          "data": {
            "text/plain": [
              "[<matplotlib.lines.Line2D at 0x7fcea8fe2550>]"
            ]
          },
          "metadata": {},
          "execution_count": 38
        },
        {
          "output_type": "display_data",
          "data": {
            "image/png": "[encoded data removed]",
            "text/plain": [
              "<Figure size 432x288 with 1 Axes>"
            ]
          },
          "metadata": {
            "needs_background": "light"
          }
        }
      ]
    },
    {
      "cell_type": "markdown",
      "metadata": {
        "id": "dbD87_85aOKS"
      },
      "source": [
        "Lambda-функции\n",
        "\n",
        "Любая функция типа \n",
        "\n",
        "\n",
        "\n",
        "```\n",
        "def myFun(agr1, arg2, argN ...):\n",
        "  <code>\n",
        "  retrun expression\n",
        "```\n",
        "\n",
        "может быть переписана в более компактном виде, используя Lambda-функции. \n",
        "\n",
        "\n",
        "\n",
        "```\n",
        "myFun = lambda arg1, arg2, argN, ...: expression\n",
        "```"
      ]
    },
    {
      "cell_type": "code",
      "metadata": {
        "colab": {
          "base_uri": "https://localhost:8080/",
          "height": 302
        },
        "id": "SH0WkiX3a0j3",
        "outputId": "647341bc-7544-434e-bf38-13bac9b20675"
      },
      "source": [
        "def orderFun(x, order=2):\n",
        "  return x ** order \n",
        "\n",
        "orderFun_lambda = lambda x, order: x**order \n",
        "\n",
        "y1 = []\n",
        "y2 = []\n",
        "\n",
        "x_list = range(10)\n",
        "for x in x_list:\n",
        "  y1.append(orderFun(x, 2)) \n",
        "  y2.append(orderFun_lambda(x, 2))\n",
        "\n",
        "plt.plot(x_list, y1, x_list, y2)"
      ],
      "execution_count": null,
      "outputs": [
        {
          "output_type": "execute_result",
          "data": {
            "text/plain": [
              "[<matplotlib.lines.Line2D at 0x7fcea8b61c90>,\n",
              " <matplotlib.lines.Line2D at 0x7fcea8b61e90>]"
            ]
          },
          "metadata": {},
          "execution_count": 50
        },
        {
          "output_type": "display_data",
          "data": {
            "image/png": "[encoded data removed]",
            "text/plain": [
              "<Figure size 432x288 with 1 Axes>"
            ]
          },
          "metadata": {
            "needs_background": "light"
          }
        }
      ]
    },
    {
      "cell_type": "code",
      "metadata": {
        "id": "u56CQsBhhQKs"
      },
      "source": [
        "def L(x, n):\n",
        "    s = 0\n",
        "    for i in range (1, n+1):\n",
        "        s += (1.0/i)*(x/(1.0+x))**i\n",
        "    return s"
      ],
      "execution_count": null,
      "outputs": []
    }
  ]
}