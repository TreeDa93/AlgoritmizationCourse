{
  "nbformat": 4,
  "nbformat_minor": 0,
  "metadata": {
    "colab": {
      "name": "Lab5_algoritmization.ipynb",
      "provenance": [],
      "collapsed_sections": [],
      "authorship_tag": "ABX9TyPD8fHtG2t5sWMJ9MxLFGAR",
      "include_colab_link": true
    },
    "kernelspec": {
      "name": "python3",
      "display_name": "Python 3"
    },
    "language_info": {
      "name": "python"
    }
  },
  "cells": [
    {
      "cell_type": "markdown",
      "metadata": {
        "id": "view-in-github",
        "colab_type": "text"
      },
      "source": [
        "<a href=\"https://colab.research.google.com/github/TreeDa93/AlgoritmizationCourse/blob/main/Lab5_algoritmization.ipynb\" target=\"_parent\"><img src=\"https://colab.research.google.com/assets/colab-badge.svg\" alt=\"Open In Colab\"/></a>"
      ]
    },
    {
      "cell_type": "markdown",
      "metadata": {
        "id": "Ycfxkcc0i_H3"
      },
      "source": [
        "# Лабораторная работа № 5. Тестирование и поиск ошибок в коде. Практика использования команд try, except. Проверка зацикливания алгоритма.  "
      ]
    },
    {
      "cell_type": "markdown",
      "metadata": {
        "id": "cjY9wY35Xfsf"
      },
      "source": [
        "Цель работы - научиться реализовывать базовый функционал Python для решения задач электротехники с помощью написания алгоритмов.  "
      ]
    },
    {
      "cell_type": "markdown",
      "metadata": {
        "id": "nfue5KJxXhlo"
      },
      "source": [
        "Задачи:\n",
        "\n",
        "Задача 1. Написать код для решения задачи цепи постоянного тока. Сделать проверку решения с помощью логических выражений на основе баланса мощностей. \n",
        "\n",
        "Задача 2. Написать код для решения задачи цепи переменного тока, используя комплексные значения. Сделать проверку решения с помощью логических выражений на основе баланса мощностей. \n",
        "\n",
        "Задача 3. Расчитать цепь переменного тока, используя мгновенные значения тока и напряения с помощью типа перменных массив. Построить основные характеристики.  "
      ]
    },
    {
      "cell_type": "markdown",
      "metadata": {
        "id": "bSfhLT1i7O-E"
      },
      "source": [
        "Зацикливание алгоритма - это бесконечное выеполнение инструкции кода, возникающая из-за постонно истинного выражения в циклах. Важно избгать этого в программах или создавать конструкции, которые отключат зацикливание. Одним из возможных решений является использование оператора break"
      ]
    },
    {
      "cell_type": "markdown",
      "metadata": {
        "id": "qmiOtkss8fG1"
      },
      "source": [
        "Создать код с зацикливанием цикла while. "
      ]
    },
    {
      "cell_type": "code",
      "metadata": {
        "id": "PnH5xYmo8WpV"
      },
      "source": [
        "test=True\n",
        "stop = 10\n",
        "i = 0\n",
        "while test:\n",
        "  print(\"I am working\")\n",
        "  i+=1\n",
        "  if i == stop:\n",
        "    break "
      ],
      "execution_count": null,
      "outputs": []
    },
    {
      "cell_type": "markdown",
      "metadata": {
        "id": "tzcZfTnS8rOl"
      },
      "source": [
        "Создать код с зацикливанием цикла for"
      ]
    },
    {
      "cell_type": "code",
      "metadata": {
        "id": "AbGGl6CZ8nCl"
      },
      "source": [
        "my_list = [1, 2]\n",
        "for i in my_list:\n",
        "  my_list.append(i)\n",
        "  print('hi')"
      ],
      "execution_count": null,
      "outputs": []
    },
    {
      "cell_type": "markdown",
      "metadata": {
        "id": "yLowzpJU-cQy"
      },
      "source": [
        "Создать инструмент для избегания зацикливания с помощью достижения максимального количества итераций. "
      ]
    },
    {
      "cell_type": "code",
      "metadata": {
        "id": "PE5xgthA-OtS"
      },
      "source": [
        "test=True\n",
        "stop = 10\n",
        "i = 0\n",
        "while test:\n",
        "  print(\"I am working\")\n",
        "  i+=1\n",
        "  if i == stop:\n",
        "    break "
      ],
      "execution_count": null,
      "outputs": []
    },
    {
      "cell_type": "markdown",
      "metadata": {
        "id": "ZumXDQZhBWiC"
      },
      "source": [
        "Создаем такойже инструмент для цикла for"
      ]
    },
    {
      "cell_type": "code",
      "metadata": {
        "id": "1J_DfOtx-TzW"
      },
      "source": [
        "from sys import exit\n",
        "my_list = [1, 2]\n",
        "stop = 4\n",
        "i = 0\n",
        "for value in my_list:\n",
        "  my_list.append(i)\n",
        "  print(\"I am working\")\n",
        "  i+=1\n",
        "  if i == stop:\n",
        "    break"
      ],
      "execution_count": null,
      "outputs": []
    },
    {
      "cell_type": "markdown",
      "metadata": {
        "id": "ZMogl_pGBaii"
      },
      "source": [
        "Создаем инструмент с помощью выполнения кода и функции sys.exit()"
      ]
    },
    {
      "cell_type": "code",
      "metadata": {
        "id": "i41eNzN9A86O"
      },
      "source": [
        "from sys import exit\n",
        "my_list = [1, 2]\n",
        "stop = 4\n",
        "i = 0\n",
        "for value in my_list:\n",
        "  my_list.append(i)\n",
        "  print(\"I am working\")\n",
        "  i+=1\n",
        "  if i == stop:\n",
        "    exit()"
      ],
      "execution_count": null,
      "outputs": []
    },
    {
      "cell_type": "markdown",
      "metadata": {
        "id": "AXiz9_PpCbwS"
      },
      "source": [
        "Разработать программу првоерки деления на ноль.\n",
        "1) Написать выражение с делением на ноль \n",
        "\n",
        "2) Перехватить эту ошибку с помощью операций try и except\n",
        "\n",
        "3) Добавить нструкцию в эту программу, которая будет выполняться в любом случае. "
      ]
    },
    {
      "cell_type": "code",
      "metadata": {
        "colab": {
          "base_uri": "https://localhost:8080/",
          "height": 211
        },
        "id": "FmQhXlqoCbXz",
        "outputId": "168a65d6-c5bf-4c54-fd1d-561820c00381"
      },
      "source": [
        "a = 5.0\n",
        "b = 0\n",
        "a/b"
      ],
      "execution_count": null,
      "outputs": [
        {
          "output_type": "error",
          "ename": "ZeroDivisionError",
          "evalue": "ignored",
          "traceback": [
            "\u001b[0;31m---------------------------------------------------------------------------\u001b[0m",
            "\u001b[0;31mZeroDivisionError\u001b[0m                         Traceback (most recent call last)",
            "\u001b[0;32m<ipython-input-6-bb247df312ec>\u001b[0m in \u001b[0;36m<module>\u001b[0;34m()\u001b[0m\n\u001b[1;32m      1\u001b[0m \u001b[0ma\u001b[0m \u001b[0;34m=\u001b[0m \u001b[0;36m5.0\u001b[0m\u001b[0;34m\u001b[0m\u001b[0;34m\u001b[0m\u001b[0m\n\u001b[1;32m      2\u001b[0m \u001b[0mb\u001b[0m \u001b[0;34m=\u001b[0m \u001b[0;36m0\u001b[0m\u001b[0;34m\u001b[0m\u001b[0;34m\u001b[0m\u001b[0m\n\u001b[0;32m----> 3\u001b[0;31m \u001b[0ma\u001b[0m\u001b[0;34m/\u001b[0m\u001b[0mb\u001b[0m\u001b[0;34m\u001b[0m\u001b[0;34m\u001b[0m\u001b[0m\n\u001b[0m",
            "\u001b[0;31mZeroDivisionError\u001b[0m: float division by zero"
          ]
        }
      ]
    },
    {
      "cell_type": "code",
      "metadata": {
        "colab": {
          "base_uri": "https://localhost:8080/"
        },
        "id": "jptCJWNTDSlO",
        "outputId": "f6184d79-2a9f-4199-e194-e1f2088bec1e"
      },
      "source": [
        "try:\n",
        "  a/b\n",
        "except ZeroDivisionError:\n",
        "  print(\"Делить на ноль не хорошо!\")"
      ],
      "execution_count": null,
      "outputs": [
        {
          "output_type": "stream",
          "name": "stdout",
          "text": [
            "Делить на ноль не хорошо!\n"
          ]
        }
      ]
    },
    {
      "cell_type": "code",
      "metadata": {
        "colab": {
          "base_uri": "https://localhost:8080/"
        },
        "id": "o0r9agJ1D5gM",
        "outputId": "709c663a-bd8f-46ca-d91e-de5a2cb88296"
      },
      "source": [
        "a = 1\n",
        "b = 5\n",
        "try:\n",
        "  a/b\n",
        "except ZeroDivisionError:\n",
        "  print(\"Делить на ноль не хорошо!\")\n",
        "\n",
        "else: \n",
        "  print(a/b)\n",
        "\n",
        "finally:\n",
        "  print('Ты сделал проверку кода! Я бы появился в любом случаи')"
      ],
      "execution_count": null,
      "outputs": [
        {
          "output_type": "stream",
          "name": "stdout",
          "text": [
            "0.2\n",
            "Ты сделал проверку кода! Я бы появился в любом случаи\n"
          ]
        }
      ]
    },
    {
      "cell_type": "code",
      "metadata": {
        "id": "c_XlzvjHDrlk"
      },
      "source": [
        ""
      ],
      "execution_count": null,
      "outputs": []
    },
    {
      "cell_type": "markdown",
      "metadata": {
        "id": "oVGRQyoUB_KE"
      },
      "source": [
        "Написать программу проверки четного числа, причем введенное число должно быть только четным. Проверку реализовать с помощью функций try и except. "
      ]
    },
    {
      "cell_type": "code",
      "metadata": {
        "colab": {
          "base_uri": "https://localhost:8080/"
        },
        "id": "P_OQ9o56BqWL",
        "outputId": "d472da27-395e-45d2-aab0-e3c4427f1454"
      },
      "source": [
        "n = input(\"Введите целое число: \")\n",
        " \n",
        "while type(n) != int:\n",
        "    try:\n",
        "        n = int(n)\n",
        "    except ValueError:\n",
        "        print(\"Неправильно ввели!\")\n",
        "        n = input(\"Введите целое число: \")\n",
        " \n",
        "if n % 2 == 0:\n",
        "    print(\"Четное\")\n",
        "else:\n",
        "    print(\"Нечетное\")"
      ],
      "execution_count": null,
      "outputs": [
        {
          "output_type": "stream",
          "name": "stdout",
          "text": [
            "Введите целое число: 12\n",
            "Четное\n"
          ]
        }
      ]
    },
    {
      "cell_type": "markdown",
      "metadata": {
        "id": "ei_d0XnnH6Do"
      },
      "source": [
        "Напишите программау которая работает пока пользователь не введет число. "
      ]
    },
    {
      "cell_type": "code",
      "metadata": {
        "colab": {
          "base_uri": "https://localhost:8080/",
          "height": 639
        },
        "id": "WtlzPfupHDgO",
        "outputId": "100be32e-2c02-43ae-f70c-a8f3581cd5ab"
      },
      "source": [
        "while True:\n",
        "  try:\n",
        "    data = float(input(\"Введите число \"))\n",
        "    break\n",
        "  except ValueError:\n",
        "    print(\"Это не число\")"
      ],
      "execution_count": null,
      "outputs": [
        {
          "output_type": "stream",
          "name": "stdout",
          "text": [
            "Введите число пыа\n",
            "Это не число\n",
            "Введите число вывы\n",
            "Это не число\n"
          ]
        },
        {
          "output_type": "error",
          "ename": "KeyboardInterrupt",
          "evalue": "ignored",
          "traceback": [
            "\u001b[0;31m---------------------------------------------------------------------------\u001b[0m",
            "\u001b[0;31mKeyboardInterrupt\u001b[0m                         Traceback (most recent call last)",
            "\u001b[0;32m/usr/local/lib/python3.7/dist-packages/ipykernel/kernelbase.py\u001b[0m in \u001b[0;36m_input_request\u001b[0;34m(self, prompt, ident, parent, password)\u001b[0m\n\u001b[1;32m    728\u001b[0m             \u001b[0;32mtry\u001b[0m\u001b[0;34m:\u001b[0m\u001b[0;34m\u001b[0m\u001b[0;34m\u001b[0m\u001b[0m\n\u001b[0;32m--> 729\u001b[0;31m                 \u001b[0mident\u001b[0m\u001b[0;34m,\u001b[0m \u001b[0mreply\u001b[0m \u001b[0;34m=\u001b[0m \u001b[0mself\u001b[0m\u001b[0;34m.\u001b[0m\u001b[0msession\u001b[0m\u001b[0;34m.\u001b[0m\u001b[0mrecv\u001b[0m\u001b[0;34m(\u001b[0m\u001b[0mself\u001b[0m\u001b[0;34m.\u001b[0m\u001b[0mstdin_socket\u001b[0m\u001b[0;34m,\u001b[0m \u001b[0;36m0\u001b[0m\u001b[0;34m)\u001b[0m\u001b[0;34m\u001b[0m\u001b[0;34m\u001b[0m\u001b[0m\n\u001b[0m\u001b[1;32m    730\u001b[0m             \u001b[0;32mexcept\u001b[0m \u001b[0mException\u001b[0m\u001b[0;34m:\u001b[0m\u001b[0;34m\u001b[0m\u001b[0;34m\u001b[0m\u001b[0m\n",
            "\u001b[0;32m/usr/local/lib/python3.7/dist-packages/jupyter_client/session.py\u001b[0m in \u001b[0;36mrecv\u001b[0;34m(self, socket, mode, content, copy)\u001b[0m\n\u001b[1;32m    802\u001b[0m         \u001b[0;32mtry\u001b[0m\u001b[0;34m:\u001b[0m\u001b[0;34m\u001b[0m\u001b[0;34m\u001b[0m\u001b[0m\n\u001b[0;32m--> 803\u001b[0;31m             \u001b[0mmsg_list\u001b[0m \u001b[0;34m=\u001b[0m \u001b[0msocket\u001b[0m\u001b[0;34m.\u001b[0m\u001b[0mrecv_multipart\u001b[0m\u001b[0;34m(\u001b[0m\u001b[0mmode\u001b[0m\u001b[0;34m,\u001b[0m \u001b[0mcopy\u001b[0m\u001b[0;34m=\u001b[0m\u001b[0mcopy\u001b[0m\u001b[0;34m)\u001b[0m\u001b[0;34m\u001b[0m\u001b[0;34m\u001b[0m\u001b[0m\n\u001b[0m\u001b[1;32m    804\u001b[0m         \u001b[0;32mexcept\u001b[0m \u001b[0mzmq\u001b[0m\u001b[0;34m.\u001b[0m\u001b[0mZMQError\u001b[0m \u001b[0;32mas\u001b[0m \u001b[0me\u001b[0m\u001b[0;34m:\u001b[0m\u001b[0;34m\u001b[0m\u001b[0;34m\u001b[0m\u001b[0m\n",
            "\u001b[0;32m/usr/local/lib/python3.7/dist-packages/zmq/sugar/socket.py\u001b[0m in \u001b[0;36mrecv_multipart\u001b[0;34m(self, flags, copy, track)\u001b[0m\n\u001b[1;32m    624\u001b[0m         \"\"\"\n\u001b[0;32m--> 625\u001b[0;31m         \u001b[0mparts\u001b[0m \u001b[0;34m=\u001b[0m \u001b[0;34m[\u001b[0m\u001b[0mself\u001b[0m\u001b[0;34m.\u001b[0m\u001b[0mrecv\u001b[0m\u001b[0;34m(\u001b[0m\u001b[0mflags\u001b[0m\u001b[0;34m,\u001b[0m \u001b[0mcopy\u001b[0m\u001b[0;34m=\u001b[0m\u001b[0mcopy\u001b[0m\u001b[0;34m,\u001b[0m \u001b[0mtrack\u001b[0m\u001b[0;34m=\u001b[0m\u001b[0mtrack\u001b[0m\u001b[0;34m)\u001b[0m\u001b[0;34m]\u001b[0m\u001b[0;34m\u001b[0m\u001b[0;34m\u001b[0m\u001b[0m\n\u001b[0m\u001b[1;32m    626\u001b[0m         \u001b[0;31m# have first part already, only loop while more to receive\u001b[0m\u001b[0;34m\u001b[0m\u001b[0;34m\u001b[0m\u001b[0;34m\u001b[0m\u001b[0m\n",
            "\u001b[0;32mzmq/backend/cython/socket.pyx\u001b[0m in \u001b[0;36mzmq.backend.cython.socket.Socket.recv\u001b[0;34m()\u001b[0m\n",
            "\u001b[0;32mzmq/backend/cython/socket.pyx\u001b[0m in \u001b[0;36mzmq.backend.cython.socket.Socket.recv\u001b[0;34m()\u001b[0m\n",
            "\u001b[0;32mzmq/backend/cython/socket.pyx\u001b[0m in \u001b[0;36mzmq.backend.cython.socket._recv_copy\u001b[0;34m()\u001b[0m\n",
            "\u001b[0;32m/usr/local/lib/python3.7/dist-packages/zmq/backend/cython/checkrc.pxd\u001b[0m in \u001b[0;36mzmq.backend.cython.checkrc._check_rc\u001b[0;34m()\u001b[0m\n",
            "\u001b[0;31mKeyboardInterrupt\u001b[0m: ",
            "\nDuring handling of the above exception, another exception occurred:\n",
            "\u001b[0;31mKeyboardInterrupt\u001b[0m                         Traceback (most recent call last)",
            "\u001b[0;32m<ipython-input-18-d7b820f3147c>\u001b[0m in \u001b[0;36m<module>\u001b[0;34m()\u001b[0m\n\u001b[1;32m      1\u001b[0m \u001b[0;32mwhile\u001b[0m \u001b[0;32mTrue\u001b[0m\u001b[0;34m:\u001b[0m\u001b[0;34m\u001b[0m\u001b[0;34m\u001b[0m\u001b[0m\n\u001b[1;32m      2\u001b[0m   \u001b[0;32mtry\u001b[0m\u001b[0;34m:\u001b[0m\u001b[0;34m\u001b[0m\u001b[0;34m\u001b[0m\u001b[0m\n\u001b[0;32m----> 3\u001b[0;31m     \u001b[0mdata\u001b[0m \u001b[0;34m=\u001b[0m \u001b[0mfloat\u001b[0m\u001b[0;34m(\u001b[0m\u001b[0minput\u001b[0m\u001b[0;34m(\u001b[0m\u001b[0;34m\"Введите число \"\u001b[0m\u001b[0;34m)\u001b[0m\u001b[0;34m)\u001b[0m\u001b[0;34m\u001b[0m\u001b[0;34m\u001b[0m\u001b[0m\n\u001b[0m\u001b[1;32m      4\u001b[0m     \u001b[0;32mbreak\u001b[0m\u001b[0;34m\u001b[0m\u001b[0;34m\u001b[0m\u001b[0m\n\u001b[1;32m      5\u001b[0m   \u001b[0;32mexcept\u001b[0m \u001b[0mValueError\u001b[0m\u001b[0;34m:\u001b[0m\u001b[0;34m\u001b[0m\u001b[0;34m\u001b[0m\u001b[0m\n",
            "\u001b[0;32m/usr/local/lib/python3.7/dist-packages/ipykernel/kernelbase.py\u001b[0m in \u001b[0;36mraw_input\u001b[0;34m(self, prompt)\u001b[0m\n\u001b[1;32m    702\u001b[0m             \u001b[0mself\u001b[0m\u001b[0;34m.\u001b[0m\u001b[0m_parent_ident\u001b[0m\u001b[0;34m,\u001b[0m\u001b[0;34m\u001b[0m\u001b[0;34m\u001b[0m\u001b[0m\n\u001b[1;32m    703\u001b[0m             \u001b[0mself\u001b[0m\u001b[0;34m.\u001b[0m\u001b[0m_parent_header\u001b[0m\u001b[0;34m,\u001b[0m\u001b[0;34m\u001b[0m\u001b[0;34m\u001b[0m\u001b[0m\n\u001b[0;32m--> 704\u001b[0;31m             \u001b[0mpassword\u001b[0m\u001b[0;34m=\u001b[0m\u001b[0;32mFalse\u001b[0m\u001b[0;34m,\u001b[0m\u001b[0;34m\u001b[0m\u001b[0;34m\u001b[0m\u001b[0m\n\u001b[0m\u001b[1;32m    705\u001b[0m         )\n\u001b[1;32m    706\u001b[0m \u001b[0;34m\u001b[0m\u001b[0m\n",
            "\u001b[0;32m/usr/local/lib/python3.7/dist-packages/ipykernel/kernelbase.py\u001b[0m in \u001b[0;36m_input_request\u001b[0;34m(self, prompt, ident, parent, password)\u001b[0m\n\u001b[1;32m    732\u001b[0m             \u001b[0;32mexcept\u001b[0m \u001b[0mKeyboardInterrupt\u001b[0m\u001b[0;34m:\u001b[0m\u001b[0;34m\u001b[0m\u001b[0;34m\u001b[0m\u001b[0m\n\u001b[1;32m    733\u001b[0m                 \u001b[0;31m# re-raise KeyboardInterrupt, to truncate traceback\u001b[0m\u001b[0;34m\u001b[0m\u001b[0;34m\u001b[0m\u001b[0;34m\u001b[0m\u001b[0m\n\u001b[0;32m--> 734\u001b[0;31m                 \u001b[0;32mraise\u001b[0m \u001b[0mKeyboardInterrupt\u001b[0m\u001b[0;34m\u001b[0m\u001b[0;34m\u001b[0m\u001b[0m\n\u001b[0m\u001b[1;32m    735\u001b[0m             \u001b[0;32melse\u001b[0m\u001b[0;34m:\u001b[0m\u001b[0;34m\u001b[0m\u001b[0;34m\u001b[0m\u001b[0m\n\u001b[1;32m    736\u001b[0m                 \u001b[0;32mbreak\u001b[0m\u001b[0;34m\u001b[0m\u001b[0;34m\u001b[0m\u001b[0m\n",
            "\u001b[0;31mKeyboardInterrupt\u001b[0m: "
          ]
        }
      ]
    },
    {
      "cell_type": "code",
      "metadata": {
        "colab": {
          "base_uri": "https://localhost:8080/",
          "height": 35
        },
        "id": "sPorFq7CHSot",
        "outputId": "f767e9f2-341f-49cc-e53f-66c085231be0"
      },
      "source": [
        "str(2^35347)"
      ],
      "execution_count": null,
      "outputs": [
        {
          "output_type": "execute_result",
          "data": {
            "application/vnd.google.colaboratory.intrinsic+json": {
              "type": "string"
            },
            "text/plain": [
              "'35345'"
            ]
          },
          "metadata": {},
          "execution_count": 15
        }
      ]
    }
  ]
}