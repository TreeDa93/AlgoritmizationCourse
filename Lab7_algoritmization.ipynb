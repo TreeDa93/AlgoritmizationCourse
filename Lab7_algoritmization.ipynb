{
  "nbformat": 4,
  "nbformat_minor": 0,
  "metadata": {
    "colab": {
      "name": "Lab7_algoritmization.ipynb",
      "provenance": [],
      "collapsed_sections": [],
      "authorship_tag": "ABX9TyNXYlETeEgCZ2+GWVVQ3sT6",
      "include_colab_link": true
    },
    "kernelspec": {
      "name": "python3",
      "display_name": "Python 3"
    },
    "language_info": {
      "name": "python"
    }
  },
  "cells": [
    {
      "cell_type": "markdown",
      "metadata": {
        "id": "view-in-github",
        "colab_type": "text"
      },
      "source": [
        "<a href=\"https://colab.research.google.com/github/TreeDa93/AlgoritmizationCourse/blob/main/Lab7_algoritmization.ipynb\" target=\"_parent\"><img src=\"https://colab.research.google.com/assets/colab-badge.svg\" alt=\"Open In Colab\"/></a>"
      ]
    },
    {
      "cell_type": "markdown",
      "metadata": {
        "id": "Ycfxkcc0i_H3"
      },
      "source": [
        "# Лабораторная работа № 7. Практическое применение Python классов в расчетах инженерных задач."
      ]
    },
    {
      "cell_type": "markdown",
      "metadata": {
        "id": "cjY9wY35Xfsf"
      },
      "source": [
        "Цель работы - ознакомиться с основами работы с классами Python. "
      ]
    },
    {
      "cell_type": "markdown",
      "metadata": {
        "id": "nfue5KJxXhlo"
      },
      "source": [
        "Задачи:\n",
        "\n",
        "Задача 1. Ознакомиться с основами синтасиса создания класса Python. \n",
        "\n",
        "Задача 2. Усвоить основные составляющие класса Python.\n",
        "\n",
        "Задача 3. Написать класс, который принимает значений амплитуды, времени и частоты и выдает расчитанное значение по формуле $u = U_{max} cos(2\\pi f_1 t)$ и строит этот график этой функции.    "
      ]
    },
    {
      "cell_type": "markdown",
      "metadata": {
        "id": "JDAGZwz_Q_ab"
      },
      "source": [
        "#### 1. Создать класс с возможностью строить график синусоиды\n",
        "\n",
        "##### 1.1. Создать класс с названием MathFunPlotter. \n",
        "В этом классе задать необходимы атрибуты частотыт и амплитуды функции с помощью конструкции `__init__`"
      ]
    },
    {
      "cell_type": "code",
      "metadata": {
        "id": "l_vNZJ8OuS4r"
      },
      "source": [
        "class MathFunPlotter:\n",
        "    \"\"\"The class is built to plot mathematic functions\"\"\"\n",
        "    \n",
        "    def __init__(self, f1, U):\n",
        "        \"\"\"Here you difene some attributes of the class as default\"\"\"\n",
        "        self.f1 = f1\n",
        "        self.u_max = U"
      ],
      "execution_count": null,
      "outputs": []
    },
    {
      "cell_type": "markdown",
      "metadata": {
        "id": "EzMHj9LISO8D"
      },
      "source": [
        "##### 1.2. Вызвать созданный класс со значениями частоты 50 и амплитуды 220. "
      ]
    },
    {
      "cell_type": "code",
      "metadata": {
        "id": "_oamA5_vPsSa"
      },
      "source": [
        "plotter = MathFunPlotter(50, 220)"
      ],
      "execution_count": null,
      "outputs": []
    },
    {
      "cell_type": "markdown",
      "metadata": {
        "id": "zL7gjOw6SIZ_"
      },
      "source": [
        "##### 1.3. Вывести атрибуты частоты и амплитуды на экран из созданного класса. "
      ]
    },
    {
      "cell_type": "code",
      "metadata": {
        "colab": {
          "base_uri": "https://localhost:8080/"
        },
        "id": "w0p7yfQMR6cv",
        "outputId": "6b47c122-817c-4edc-a9cf-66bd8e720335"
      },
      "source": [
        "print(plotter.f1)\n",
        "print(plotter.u_max)"
      ],
      "execution_count": null,
      "outputs": [
        {
          "output_type": "stream",
          "name": "stdout",
          "text": [
            "50\n",
            "220\n"
          ]
        }
      ]
    },
    {
      "cell_type": "markdown",
      "metadata": {
        "id": "p0rXteH0SjOp"
      },
      "source": [
        "#### 1.4. Вывести описание класса. \n",
        "Описание класса можно вывести с помощью команды `__doc__`. Описанием класса является строки заключенные в тройные кавычки. "
      ]
    },
    {
      "cell_type": "code",
      "metadata": {
        "colab": {
          "base_uri": "https://localhost:8080/",
          "height": 35
        },
        "id": "b9JSQnU0SeaG",
        "outputId": "391f52b0-04da-438a-e546-c639e2d66d39"
      },
      "source": [
        "plotter.__doc__"
      ],
      "execution_count": null,
      "outputs": [
        {
          "output_type": "execute_result",
          "data": {
            "application/vnd.google.colaboratory.intrinsic+json": {
              "type": "string"
            },
            "text/plain": [
              "'The class is built to plot mathematic functions'"
            ]
          },
          "metadata": {},
          "execution_count": 52
        }
      ]
    },
    {
      "cell_type": "markdown",
      "metadata": {
        "id": "AhVZk-nRy_X5"
      },
      "source": [
        "#### 2. Добавить в этот класс возможность вычислять значения в определенный момент времени по формуле $u = U_{max} cos(2\\pi f_1 t)$\n",
        "\n",
        "Добавить метод, который вычисляет $u = U_{max} cos(2\\pi f_1 t)$ по заданному аргументу времени."
      ]
    },
    {
      "cell_type": "code",
      "metadata": {
        "id": "7Zpb_4QOUDAx"
      },
      "source": [
        "import math as ma\n",
        "class MathFunPlotter(object):\n",
        "    \"\"\"The class is built to plot mathematic functions\"\"\"\n",
        "    \n",
        "    def __init__(self, f1, U):\n",
        "        \"\"\"Here you difene some attributes of the class as default\"\"\"\n",
        "        self.f1 = f1\n",
        "        self.u_max = U\n",
        "    def claculate(self, time):\n",
        "      u = self.u_max * ma.cos(2* ma.pi * self.f1 * time)\n",
        "      return u\n"
      ],
      "execution_count": null,
      "outputs": []
    },
    {
      "cell_type": "markdown",
      "metadata": {
        "id": "B1NQWy2wzaws"
      },
      "source": [
        "##### 2.1 Проверить работоспособность созданного метода"
      ]
    },
    {
      "cell_type": "code",
      "metadata": {
        "id": "NnctriefUuX_"
      },
      "source": [
        "plotter = MathFunPlotter(50, 220).claculate(1)"
      ],
      "execution_count": null,
      "outputs": []
    },
    {
      "cell_type": "markdown",
      "metadata": {
        "id": "pjA_7Fq-zj57"
      },
      "source": [
        "##### 3. Добавить опцию расчета набора данных согласно функции $u = U_{max} cos(2\\pi f_1 t)$ для ее построения"
      ]
    },
    {
      "cell_type": "code",
      "metadata": {
        "id": "XEBcetr7VYjx"
      },
      "source": [
        "class MathFunPlotter:\n",
        "    \"\"\"The class is built to plot mathematic functions\"\"\"\n",
        "    \n",
        "    def __init__(self, f1, U):\n",
        "        \"\"\"Here you difene some attributes of the class as default\"\"\"\n",
        "        self.f1 = f1\n",
        "        self.u_max = U\n",
        "    def claculate(self, time):\n",
        "      u = self.u_max * ma.cos(2* ma.pi * self.f1 * time)\n",
        "      return u\n",
        "        \n",
        "    def set_data(self, times):\n",
        "      self.data = ([self.claculate(t/self.f1) for t in range(times)],\n",
        "     [t/self.f1 for t in range(times)])"
      ],
      "execution_count": null,
      "outputs": []
    },
    {
      "cell_type": "markdown",
      "metadata": {
        "id": "5hbeoCDNz1tn"
      },
      "source": [
        "##### 3.1. Проверить этот метод для 100 точек времени"
      ]
    },
    {
      "cell_type": "code",
      "metadata": {
        "id": "6xXgp8XKWCer"
      },
      "source": [
        "plotter = MathFunPlotter(50, 220).set_data(1)"
      ],
      "execution_count": null,
      "outputs": []
    },
    {
      "cell_type": "markdown",
      "metadata": {
        "id": "Bb3U2jhQ0KLd"
      },
      "source": [
        "#### 4. Добавить в класс возможность выводить график этого выражения "
      ]
    },
    {
      "cell_type": "code",
      "metadata": {
        "id": "MiWyHtiRW3-4"
      },
      "source": [
        "import matplotlib.pyplot as plt\n",
        "class MathFunPlotter:\n",
        "    \"\"\"The class is built to plot mathematic functions\"\"\"\n",
        "    \n",
        "    def __init__(self, f1, U):\n",
        "        \"\"\"Here you difene some attributes of the class as default\"\"\"\n",
        "        self.f1 = f1\n",
        "        self.u_max = U\n",
        "    def claculate(self, time):\n",
        "      u = self.u_max * ma.cos(2* ma.pi * self.f1 * time)\n",
        "      return u\n",
        "        \n",
        "    def set_data(self, dotes, pdotes=20):\n",
        "      self.data = ([self.claculate(t/(self.f1*pdotes)) for t in range(dotes)],\n",
        "     [t/(self.f1*pdotes) for t in range(dotes)])\n",
        "      \n",
        "    def plotGraph(self):\n",
        "      plt.plot(self.data[1], self.data[0], '--')"
      ],
      "execution_count": null,
      "outputs": []
    },
    {
      "cell_type": "markdown",
      "metadata": {
        "id": "uG6IZ0C70U4c"
      },
      "source": [
        "##### 4.1. Построить график $u = U_{max} cos(2\\pi f_1 t)$ с помощью класса"
      ]
    },
    {
      "cell_type": "code",
      "metadata": {
        "colab": {
          "base_uri": "https://localhost:8080/",
          "height": 265
        },
        "id": "ErDCs7EMXFET",
        "outputId": "a8cabee0-0fa9-45a6-995e-b2cb155d1e53"
      },
      "source": [
        "plotter = MathFunPlotter(50, 220)\n",
        "plotter.set_data(100)\n",
        "plotter.plotGraph()"
      ],
      "execution_count": null,
      "outputs": [
        {
          "output_type": "display_data",
          "data": {
            "image/png": "[encoded data removed]",
            "text/plain": [
              "<Figure size 432x288 with 1 Axes>"
            ]
          },
          "metadata": {
            "needs_background": "light"
          }
        }
      ]
    },
    {
      "cell_type": "markdown",
      "metadata": {
        "id": "kJWFO3Oc2Ou4"
      },
      "source": [
        "#### 5. Реализовать наследование классов и понять принципы его реализования на Python\n",
        "\n",
        "##### 5.1. Создадим один класс, который отвечает за расчет данных, а второй за построение графика. Применим принцип наслдования и реализуем задачу из пункта 4. "
      ]
    },
    {
      "cell_type": "code",
      "metadata": {
        "id": "GT3H3SfgZE0Y"
      },
      "source": [
        "class OnlyPlotClass:\n",
        "    \n",
        "    def plotGraph(self):\n",
        "      plt.plot(self.data[1], self.data[0], '--')\n",
        "\n",
        "\n",
        "class OnlyMathFun(OnlyPlotClass):\n",
        "    \"\"\"The class is built to plot mathematic functions\"\"\"\n",
        "    \n",
        "    def __init__(self, f1, U):\n",
        "        \"\"\"Here you difene some attributes of the class as default\"\"\"\n",
        "        super().__init__(self)\n",
        "        self.f1 = f1\n",
        "        self.u_max = U\n",
        "       \n",
        "    def claculate(self, time):\n",
        "      u = self.u_max * ma.cos(2* ma.pi * self.f1 * time)\n",
        "      return u\n",
        "        \n",
        "    def set_data(self, dotes, pdotes=20):\n",
        "      self.data = ([self.claculate(t/(self.f1*pdotes)) for t in range(dotes)],\n",
        "     [t/(self.f1*pdotes) for t in range(dotes)])\n",
        "      \n",
        "    def plot(self):\n",
        "      super().plotGraph()    \n",
        "\n"
      ],
      "execution_count": null,
      "outputs": []
    },
    {
      "cell_type": "code",
      "metadata": {
        "colab": {
          "base_uri": "https://localhost:8080/",
          "height": 265
        },
        "id": "ox43bRx8bdF7",
        "outputId": "be5e0374-15d0-4d2e-b88f-eae7da1274c2"
      },
      "source": [
        "class1 = OnlyPlotClass(typeLine='--')\n",
        "class2 = OnlyMathFun(50, 220)\n",
        "class2.set_data(100)\n",
        "class2.plot()"
      ],
      "execution_count": null,
      "outputs": [
        {
          "output_type": "display_data",
          "data": {
            "image/png": "[encoded data removed]",
            "text/plain": [
              "<Figure size 432x288 with 1 Axes>"
            ]
          },
          "metadata": {
            "needs_background": "light"
          }
        }
      ]
    }
  ]
}