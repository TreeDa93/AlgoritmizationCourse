{
  "nbformat": 4,
  "nbformat_minor": 0,
  "metadata": {
    "colab": {
      "name": "Lab1_algoritmization.ipynb",
      "provenance": [],
      "collapsed_sections": [],
      "authorship_tag": "ABX9TyP0TMGSsIrcPbH0RlFyXApq",
      "include_colab_link": true
    },
    "kernelspec": {
      "name": "python3",
      "display_name": "Python 3"
    },
    "language_info": {
      "name": "python"
    }
  },
  "cells": [
    {
      "cell_type": "markdown",
      "metadata": {
        "id": "view-in-github",
        "colab_type": "text"
      },
      "source": [
        "<a href=\"https://colab.research.google.com/github/TreeDa93/AlgoritmizationCourse/blob/main/Lab1_algoritmization.ipynb\" target=\"_parent\"><img src=\"https://colab.research.google.com/assets/colab-badge.svg\" alt=\"Open In Colab\"/></a>"
      ]
    },
    {
      "cell_type": "markdown",
      "metadata": {
        "id": "l-xrJXoOfDWJ"
      },
      "source": [
        "# Лабораторная работа № 1. Знакомство с Jupyter Notebook в Google Colab. Реализация простых математических выражений "
      ]
    },
    {
      "cell_type": "markdown",
      "metadata": {
        "id": "tUG0sIq07Fyd"
      },
      "source": [
        "Цель работы - получить первичные умения работы с Jupyter Notebook в веб среде разработок Google Colab и освоить основной синтаксис языка Python. "
      ]
    },
    {
      "cell_type": "markdown",
      "metadata": {
        "id": "pl1lr_h5W4CT"
      },
      "source": [
        "Задачи:\n",
        "\n",
        "Задача 1. Научиться работать с библиотекой math. \n",
        "\n",
        "Задача 2. Приобрести навыки написания простого кода на языке Python. \n",
        "\n",
        "Задача 3. Понять приоритеты выполнения математических операций в языке Python. "
      ]
    },
    {
      "cell_type": "markdown",
      "metadata": {
        "id": "USmZou_9r37u"
      },
      "source": [
        "Язык Python является одним из популярных языков программирования. Один из критериев выбора этого языка большинства пользователей - это широкая база библиотек. Библиотеки программирования служат для того чтобы пользователи не программировали одни и те же действия несколько раз. Библиотека в программировании (Library) – это сборник подпрограмм или объектов, используемых для разработки программ. В программах много стандартных элементов, например, кнопки, проигрыватели видео, запросы и т. д. Нет необходимости каждый раз писать их с нуля, потому что все это уже существует – есть открытые бесплатные библиотеки."
      ]
    },
    {
      "cell_type": "markdown",
      "metadata": {
        "id": "3KQ8Eg9M9pks"
      },
      "source": [
        "Импортирование библиотеки осуществляется с помощью комнды\n",
        "\n",
        "```\n",
        "import название_библиотеки\n",
        "```\n",
        "\n",
        "Пример, \n",
        "\n",
        "```\n",
        "import time, math\n",
        "time.time()\n",
        "exponenta = math.e \n",
        "```\n",
        "\n",
        "Иногда удобно использовать вариант загрузки библиотеки в код использованием псевдонима для последующего ее использования в коде. Такой метод позволяет сократить количество символов в коде. Этот метод импорта осуществляется с помощью команды:\n",
        "\n",
        "```\n",
        "import имя_библиотеки as название_бибоитеки_в_коде\n",
        "```\n",
        "Пример, \n",
        "\n",
        "```\n",
        "import numpy as np\n",
        "\n",
        "your_array = np.array([1,2,3])\n",
        "```\n",
        "\n",
        "Можно импортировать из библиотеки определенные функции, методы, классы с помощью оператора **from**. Значек * обзначает импортировать все. Команда такого метода импортирвоания выглядит следующим образом:\n",
        "\n",
        "```\n",
        "from имя_библиотеки import функция\n",
        "```\n",
        "\n",
        "Пример, `from math import e` или если мы хотим импортировать все содержимое `from math import *`."
      ]
    },
    {
      "cell_type": "markdown",
      "metadata": {
        "id": "F51Y5h5VALsP"
      },
      "source": [
        "### 1. Реализовать просты математические выражения. \n",
        "$$c = a + b \\\\\n",
        "  d = a - b \\\\\n",
        "  e = a  b \\\\\n",
        "  f = a / b \\\\\n",
        "  g = a ^ b \\\\\n",
        "  j = a / b \\\\\n",
        "  k = mod(a / b) \\\\\n",
        "$$\n",
        "\n",
        "#### 1.1. Для этого импортируем библиотеку math "
      ]
    },
    {
      "cell_type": "code",
      "metadata": {
        "id": "afuTnp_XsCk8"
      },
      "source": [
        "import math as ma"
      ],
      "execution_count": null,
      "outputs": []
    },
    {
      "cell_type": "markdown",
      "metadata": {
        "id": "oSd3alv-Amkm"
      },
      "source": [
        "#### 1.2 Зададим переменные a и b\n",
        "Операции присваивания выполняются с помощью символа \"=\". \n",
        "Определим переменные `a = 5` и `b = 10`  "
      ]
    },
    {
      "cell_type": "code",
      "metadata": {
        "id": "Os2QUYX2CcJK"
      },
      "source": [
        "a = 5\n",
        "b = 10"
      ],
      "execution_count": null,
      "outputs": []
    },
    {
      "cell_type": "markdown",
      "metadata": {
        "id": "68ECcKtlDTMp"
      },
      "source": [
        "#### 1.2.1 Научимся реализовывать множественное присваивание\n",
        "Также можно реализовать множественное присваивание, например, как \n",
        "```\n",
        "alpha = betta = gamma = 35\n",
        "```"
      ]
    },
    {
      "cell_type": "code",
      "metadata": {
        "id": "31J-F_PeDnWZ"
      },
      "source": [
        "alpha = betta = gamma = 35"
      ],
      "execution_count": null,
      "outputs": []
    },
    {
      "cell_type": "markdown",
      "metadata": {
        "id": "fYrMHJlXpC_5"
      },
      "source": [
        "#### 1.3. Ознакомимся с синтаксисом математических операций\n",
        "Основные математические операции на Python \n",
        "\n",
        "*   Сумма `+ `\n",
        "*   Разность `-`\n",
        "*   Умножение `*`\n",
        "*   Деление `/`\n",
        "*   Возведение в степень `**`\n",
        "*   Деление без остатка `//`\n",
        "*   Деление по модулю (остаток от деления) `%`"
      ]
    },
    {
      "cell_type": "markdown",
      "metadata": {
        "id": "KhWxXAfrDyTo"
      },
      "source": [
        "#### 1.4 Реализуем требуемые выражения в данном задании, исользуя синтаксис Python\n",
        "\n",
        "$$c = a + b \\\\\n",
        "  d = a - b \\\\\n",
        "  e = a * b \\\\\n",
        "  f = a / b \\\\\n",
        "  g = a ** b \\\\\n",
        "  j = a // b \\\\\n",
        "  k = a \\% b \\\\\n",
        "$$\n",
        "\n",
        "\n"
      ]
    },
    {
      "cell_type": "code",
      "metadata": {
        "id": "J2cpNRzRo9c6"
      },
      "source": [
        "c = a + b \n",
        "d = a - b \n",
        "e = a * b\n",
        "f = a / b\n",
        "g = a ** b\n",
        "j = a // b \n",
        "k = a % b"
      ],
      "execution_count": null,
      "outputs": []
    },
    {
      "cell_type": "markdown",
      "metadata": {
        "id": "gBR4W-3KEu8I"
      },
      "source": [
        "#### 1.5. Выведем на экран получившиеся результаты.\n",
        "Вывод на экран переменных Python осуществялется с помощью встроенной функции `print(name1, name2, name3, ...) `"
      ]
    },
    {
      "cell_type": "markdown",
      "metadata": {
        "id": "Izn6A3edE8df"
      },
      "source": [
        "Выведем на экран получившиеся результаты в виде \n",
        "\n",
        "```\n",
        "Сумма c, = a + b = 15\n",
        "Разность,c = a - b = -5\n",
        "Умножение, c = a * b = 50\n",
        "Деление, c = a / b = 0.5\n",
        "Возведение в степень, c = a ** b = 9765625\n",
        "Деление без остатка //\n",
        "Деление по модулю (остаток от деления) `%`\n",
        "```"
      ]
    },
    {
      "cell_type": "code",
      "metadata": {
        "colab": {
          "base_uri": "https://localhost:8080/"
        },
        "id": "_KmIjz-qFAsK",
        "outputId": "d1c98cb9-2ba4-4844-dbe6-d3677fdb4316"
      },
      "source": [
        "print('Сумма c, = a + b =', c)\n",
        "print('Разность, d  = a - b =', d)\n",
        "print('Умножение, e = a * b =', e)\n",
        "print('Деление, f = a / b =', f)\n",
        "print('Возведение в степень, g = a ** b =', g)\n",
        "print('Деление без остатка, j = a // b =', j)\n",
        "print('Возведение в степень, k = a % b =', k)"
      ],
      "execution_count": null,
      "outputs": [
        {
          "output_type": "stream",
          "name": "stdout",
          "text": [
            "Сумма c, = a + b = 15\n",
            "Разность, d  = a - b = -5\n",
            "Умножение, e = a * b = 50\n",
            "Деление, f = a / b = 0.5\n",
            "Возведение в степень, g = a ** b = 9765625\n",
            "Деление без остатка, j = a // b = 0\n",
            "Возведение в степень, k = a % b = 5\n"
          ]
        }
      ]
    },
    {
      "cell_type": "markdown",
      "metadata": {
        "id": "FB_75W9mF5js"
      },
      "source": [
        "##### 1.5.1. Запись несколький процедур в одну строку \n",
        "Возможно записать несколько инструкций в одной строке, разделяя их точкой с запятой `a = 1; b = 2; print('Сложение a и b ', a+b)`\n",
        "\n",
        "Реализовать эту возможность в Python: "
      ]
    },
    {
      "cell_type": "code",
      "metadata": {
        "colab": {
          "base_uri": "https://localhost:8080/"
        },
        "id": "IPa4n0wxGZ0_",
        "outputId": "6666e853-f9fd-49f4-d5af-57c1afb3fa02"
      },
      "source": [
        "a = 1; b = 2; print('Сложение a и b равно ', a+b)"
      ],
      "execution_count": null,
      "outputs": [
        {
          "output_type": "stream",
          "name": "stdout",
          "text": [
            "Сложение a и b  3\n"
          ]
        }
      ]
    },
    {
      "cell_type": "markdown",
      "metadata": {
        "id": "g0unWI6qI6Tx"
      },
      "source": [
        "#### 2. Провести сравнение чисел\n",
        "\n",
        "Существую операторы сравнения в Python\n",
        "\n",
        "\n",
        "*   Оператор больше `>`\n",
        "*   Оператор меньше `<`\n",
        "*   Оператор больше или равно `>=`\n",
        "*   Оператор меньше или равно `<=`\n",
        "*   Оператор равно `==`\n",
        "*   Оператор не равно `!=`\n"
      ]
    },
    {
      "cell_type": "markdown",
      "metadata": {
        "id": "9XkrlOgqJXBG"
      },
      "source": [
        "#### 2.1. Вывести выражения сравнения числа a и b \n",
        "$$\n",
        "a>b \\\\\n",
        "a<b \\\\\n",
        "a >=b \\\\\n",
        "a <= b \\\\\n",
        "a == b \\\\\n",
        "a != b \\\\\n",
        "$$\n"
      ]
    },
    {
      "cell_type": "code",
      "metadata": {
        "colab": {
          "base_uri": "https://localhost:8080/"
        },
        "id": "ehgDX0kPHc-y",
        "outputId": "921f9973-92c2-4d43-eaf1-c57be7391b9f"
      },
      "source": [
        "print(a>b) \n",
        "print(a<b)\n",
        "print(a>=b)\n",
        "print(a<=b)\n",
        "print(a==b)\n",
        "print(a!=b)\n"
      ],
      "execution_count": null,
      "outputs": [
        {
          "output_type": "stream",
          "name": "stdout",
          "text": [
            "False\n",
            "True\n",
            "False\n",
            "True\n",
            "False\n",
            "True\n"
          ]
        }
      ]
    },
    {
      "cell_type": "markdown",
      "metadata": {
        "id": "P_rJq6lIKls2"
      },
      "source": [
        "#### 3. Сокращение кода с помощью специального синтаксиса  Python\n",
        "Часто требуется прибавить или произвести какое-то другое математическое дейтсвие над уже существующей переменной. Для этого удобно исользовать операторы присваивания и математической операции \n",
        "\n",
        "*   var += value  - прибавить к var значение value\n",
        "*   var -= value - вычесть из var значение value\n",
        "*   var *= value - умножить var значение value\n",
        "*   var /= value - разделить var  на значение value\n",
        "*   var //= value - выполнить деление с остатком и происвоить его левой части\n",
        "*   var %= value - найти остаток и присвоить его левой части"
      ]
    },
    {
      "cell_type": "markdown",
      "metadata": {
        "id": "S6NAjKfeMmcS"
      },
      "source": [
        "#### 3.1. Выполнить все выше перечисленные операции и вывести их на экран"
      ]
    },
    {
      "cell_type": "code",
      "metadata": {
        "id": "wbUH5RTWMiEs",
        "colab": {
          "base_uri": "https://localhost:8080/"
        },
        "outputId": "bc30f019-e77f-4c1b-ac0a-85a8b45936bb"
      },
      "source": [
        "a+=b\n",
        "print(a)\n",
        "a = 5; b=4 \n",
        "a-=b\n",
        "print(a)\n",
        "a = 5; b=4 \n",
        "a*=b\n",
        "print(a)\n",
        "a = 5; b=4\n",
        "a/=b \n",
        "print(a)\n",
        "a = 5; b=4 \n",
        "a//=b\n",
        "print(a)\n",
        "a = 5; b=4 \n",
        "a%=b\n",
        "print(a)"
      ],
      "execution_count": null,
      "outputs": [
        {
          "output_type": "stream",
          "name": "stdout",
          "text": [
            "5.0\n",
            "1\n",
            "20\n",
            "1.25\n",
            "1\n",
            "1\n"
          ]
        }
      ]
    },
    {
      "cell_type": "markdown",
      "metadata": {
        "id": "OuwPv2ZSG_JK"
      },
      "source": [
        "#### 4. Реализация математического выржения с множеством математических операций \n",
        "Приоритет операций в выражениях с множественными операциями следующий, \n",
        "\n",
        "---\n",
        "\n",
        "\n",
        "1.   Скобки `()`\n",
        "2.   Возведение в степень `**`\n",
        "3.   Умножение, деления, взятие остатка `*, /, //, %`\n",
        "4.   Сложение и вычитание `+, -`\n",
        "5.   Битовое `&`\n",
        "6.   Умножение, деления, взятие остатка ^\n",
        "7.   Битовое ИЛИ `|`\n",
        "8.   Сравнение, проверка идентичности, проверка вхождений `==, !=, >, >=, <, <=, is, is not, in, not in`\n",
        "9.   Лоигческое не not\n",
        "10. Логическое `and` \n",
        "11. Лоигческое `or` "
      ]
    },
    {
      "cell_type": "markdown",
      "metadata": {
        "id": "t8M4uOVNsHVZ"
      },
      "source": [
        "#### 4.1. Реализиовать с помощью кода вычисление данного выражения\n",
        "\n",
        "$$\n",
        "\\zeta = \\dfrac{\\alpha e^{\\beta}(\\gamma +25^{32})}{2} +0.32 \\alpha - \\gamma  \n",
        "$$ "
      ]
    },
    {
      "cell_type": "code",
      "metadata": {
        "colab": {
          "base_uri": "https://localhost:8080/"
        },
        "id": "rv33omZfsa4d",
        "outputId": "990d5004-474b-4fed-ac6b-b9e3a41e015c"
      },
      "source": [
        "import math as ma \n",
        "zetta = (alpha * ma.e**betta * (gamma + 25**32))/2 + 0.32 * alpha - gamma\n",
        "print(zetta)"
      ],
      "execution_count": null,
      "outputs": [
        {
          "output_type": "stream",
          "name": "stdout",
          "text": [
            "1.5046143267657717e+61\n"
          ]
        }
      ]
    },
    {
      "cell_type": "markdown",
      "metadata": {
        "id": "e-7E4casYAMN"
      },
      "source": [
        "#### 5.1. Особенности записи названия переменных\n",
        "Имена переменных могут содержать любые заглавные и строчные английские буквы, цифры. Имена переменных не могут начиться с цифры. Предпочтительно называть переменны со строчных букв. Это связанно с тем что заглавными буква называют модули и классы для упрощения чтения кода. Стоит отметить, что в языке Python важным является различие заглавных и строчных букв. Проверим это утверждение с помощью кода \n",
        "\n",
        "```\n",
        "x = 5;\n",
        "print(x)\n",
        "print(X)\n",
        "```\n",
        "\n"
      ]
    },
    {
      "cell_type": "code",
      "metadata": {
        "colab": {
          "base_uri": "https://localhost:8080/",
          "height": 229
        },
        "id": "oVYb_nupXYix",
        "outputId": "2e4cd1e2-fadd-40b6-c646-3b838eb0d680"
      },
      "source": [
        "x = 5;\n",
        "print(x)\n",
        "print(X) # получим ошибку, что такая переменная не опеределена"
      ],
      "execution_count": null,
      "outputs": [
        {
          "output_type": "stream",
          "name": "stdout",
          "text": [
            "5\n"
          ]
        },
        {
          "output_type": "error",
          "ename": "NameError",
          "evalue": "ignored",
          "traceback": [
            "\u001b[0;31m---------------------------------------------------------------------------\u001b[0m",
            "\u001b[0;31mNameError\u001b[0m                                 Traceback (most recent call last)",
            "\u001b[0;32m<ipython-input-4-1600ad4711ae>\u001b[0m in \u001b[0;36m<module>\u001b[0;34m()\u001b[0m\n\u001b[1;32m      1\u001b[0m \u001b[0mx\u001b[0m \u001b[0;34m=\u001b[0m \u001b[0;36m5\u001b[0m\u001b[0;34m;\u001b[0m\u001b[0;34m\u001b[0m\u001b[0;34m\u001b[0m\u001b[0m\n\u001b[1;32m      2\u001b[0m \u001b[0mprint\u001b[0m\u001b[0;34m(\u001b[0m\u001b[0mx\u001b[0m\u001b[0;34m)\u001b[0m\u001b[0;34m\u001b[0m\u001b[0;34m\u001b[0m\u001b[0m\n\u001b[0;32m----> 3\u001b[0;31m \u001b[0mprint\u001b[0m\u001b[0;34m(\u001b[0m\u001b[0mX\u001b[0m\u001b[0;34m)\u001b[0m\u001b[0;34m\u001b[0m\u001b[0;34m\u001b[0m\u001b[0m\n\u001b[0m",
            "\u001b[0;31mNameError\u001b[0m: name 'X' is not defined"
          ]
        }
      ]
    },
    {
      "cell_type": "markdown",
      "metadata": {
        "id": "3sv3U4Rochei"
      },
      "source": [
        "Зарезервированные слова Python, которые нельзя использоать в качестве названия переменных `and, as, assert, break, class, continue, def, del, elif, else, except, False, finally, for, from, global, if, import, in, is, lambda, None, nonlocal, not, or, pass, raise, return, True, try, with, while, yield.` \n",
        "Проверим это утверждения, созда любую переменную с названием из выше перечисленного списка и присвоить ей какой-либо значение. \n",
        "\n",
        "```\n",
        "and = 5\n",
        "```\n",
        "\n",
        "\n",
        "\n"
      ]
    },
    {
      "cell_type": "markdown",
      "metadata": {
        "id": "3oQnlU7KNVCo"
      },
      "source": [
        "получи ошибку:"
      ]
    },
    {
      "cell_type": "code",
      "metadata": {
        "colab": {
          "base_uri": "https://localhost:8080/",
          "height": 137
        },
        "id": "cwoKsE6Lc8MP",
        "outputId": "d5d42b14-589e-4132-a098-1f9e9ee5a737"
      },
      "source": [
        "and = 5"
      ],
      "execution_count": null,
      "outputs": [
        {
          "output_type": "error",
          "ename": "SyntaxError",
          "evalue": "ignored",
          "traceback": [
            "\u001b[0;36m  File \u001b[0;32m\"<ipython-input-5-20fe763d8178>\"\u001b[0;36m, line \u001b[0;32m1\u001b[0m\n\u001b[0;31m    and = 5\u001b[0m\n\u001b[0m      ^\u001b[0m\n\u001b[0;31mSyntaxError\u001b[0m\u001b[0;31m:\u001b[0m invalid syntax\n"
          ]
        }
      ]
    },
    {
      "cell_type": "markdown",
      "metadata": {
        "id": "omhmr-eWfJF1"
      },
      "source": [
        "#### 6. Коментирование выражений кода\n",
        "Код может быть достаточно большим с большим количеством переменных, что затрудняет работу с ним, так как необходимо помнить обозначение каждой переменной. Важно писать объяснение к коду или переменным в коде для того чтобы пользователь мог воспользоваться им в будующем. Для этого в зяыке Python используют такую конструкцию, как комментарии.\n",
        "\n",
        "Вывоз этой конструкции осуществляется с помощью операторов \n",
        "\n",
        "#\n",
        "\n",
        "*   # комментарий - однострочный комментарий \n",
        "*   \"\"\" комментарий \"\"\" - многострочный комментарий\n",
        "Приведем ряд примеров реализации комментариев "
      ]
    },
    {
      "cell_type": "code",
      "metadata": {
        "id": "th-TxvMTgeE-"
      },
      "source": [
        "\"\"\"Здесь мы приведем код норма́льного распределе́ния\n",
        "   Формула нормального распределения \n",
        "   f(x) = 1/(sigma * sqrt(2*pi)) * exp(-1/2 * ((x-mu)/sigma)**2)\n",
        "   where mu - математическое ожидание\n",
        "   sigma -  среднеквадратическое отклонение\n",
        "\"\"\"\n",
        "\n",
        "sigma = 1 # математическое ожидание\n",
        "mu = 0  # среднеквадратическое отклонение\n",
        "\n",
        "x = 5 # значение x\n",
        "\n",
        "# функция Распределения\n",
        "f = 1/(sigma*ma.sqrt(2*ma.pi)) * ma.exp(-0.5 * ((x - mu)/ sigma)**2) \n"
      ],
      "execution_count": null,
      "outputs": []
    }
  ]
}