{
  "nbformat": 4,
  "nbformat_minor": 0,
  "metadata": {
    "colab": {
      "name": "Lab2_algoritmization.ipynb",
      "provenance": [],
      "collapsed_sections": [],
      "authorship_tag": "ABX9TyPNoFh9/TWIectDxEJM2mYj",
      "include_colab_link": true
    },
    "kernelspec": {
      "name": "python3",
      "display_name": "Python 3"
    },
    "language_info": {
      "name": "python"
    }
  },
  "cells": [
    {
      "cell_type": "markdown",
      "metadata": {
        "id": "view-in-github",
        "colab_type": "text"
      },
      "source": [
        "<a href=\"https://colab.research.google.com/github/TreeDa93/AlgoritmizationCourse/blob/main/Lab2_algoritmization.ipynb\" target=\"_parent\"><img src=\"https://colab.research.google.com/assets/colab-badge.svg\" alt=\"Open In Colab\"/></a>"
      ]
    },
    {
      "cell_type": "markdown",
      "metadata": {
        "id": "dhvIlQe1XbZy"
      },
      "source": [
        "# Лабораторная работа № 2. Работа с основными типами переменных Python. "
      ]
    },
    {
      "cell_type": "markdown",
      "metadata": {
        "id": "cjY9wY35Xfsf"
      },
      "source": [
        "Цель работы - ознакомиться с особенностями работы со основными встроенными типами переменных Python."
      ]
    },
    {
      "cell_type": "markdown",
      "metadata": {
        "id": "nfue5KJxXhlo"
      },
      "source": [
        "Задачи:\n",
        "\n",
        "Задача 1. Ознакомиться с основными типами данных (переменных) и понять принцип их классификации. \n",
        "\n",
        "Задача 2. Приобрести первичные навыки реализации переменных чисел (int, float, complex) и изучить основные функции для манипуляций над этими переменными.\n",
        "\n",
        "Задача 3. Усвоить назначение типа переменной строка (str) и понять принципы работы с данной переменой. Изучить основные операции над строкой. \n",
        "\n",
        "Задача 4. Изучить назначение переменных типа список. Произвести ряд встроенных операций над ними и сделать выводы о различии кортежа и списка. \n",
        "\n",
        "Задача 5. Понять назначение переменных типа словарь и изучить основные операции над ним. "
      ]
    },
    {
      "cell_type": "markdown",
      "metadata": {
        "id": "YJT732Kfil-L"
      },
      "source": [
        "Типы данных в Python можно разделить на \n",
        "1. `None` - неопределенное значение\n",
        "2. Логические переменны (Boolean Type) \n",
        "3. Числа \n",
        "    1. `int` - целое число\n",
        "    2. `float` - число с плавающей точкой\n",
        "    3. `complex` - комплексное число\n",
        "4. Списки\n",
        "    1. `list` - список\n",
        "    2. `tuple` - кортеж\n",
        "    3. `range` - диапозон\n",
        "5. Строки `str` - запись текста\n",
        "6. Словари `dict` \n",
        "И ряд других, например бинарные списки (bytes, bytearray, memoryview), множества (set, frozenset), но это не входит в изучение нашего курса.\n",
        "\n",
        "Проверка типа переменной можно осуществить с помощью функции `type(имя_переменной)`\n",
        "\n",
        "Стоит выделить также что переменные в Python могут быть изменяемыми и неизменяемыми. Это обозначет, что созданная переменная не может изменться после ее создания. \n",
        "Неизменяемые перменные: целые числа (int),  числа с плавающей точкой (float), комплексные числа (complex), логические переменные (bool), кортежи (tuple), строки (str) и неизменяемые множества (frozen set).\n",
        "Изменяемые перменные: списки (list), множества (set), словари (dict)."
      ]
    },
    {
      "cell_type": "markdown",
      "metadata": {
        "id": "nm1_SUyUlO_Q"
      },
      "source": [
        "# Работа с целыми, дробными и комплексными числами\n",
        "Цело число в Python имеет тип int (integer). Под целыми числами понимаются положительных, отрицательных множество чисел и ноль не имеющие дробную часть.\n",
        "По-умолчанию любое цело число инициализируется как тип `int`. Например, \n",
        "\n",
        "```\n",
        "a = 5\n",
        "type(a)\n",
        "```\n",
        "\n",
        "Вывод:\n",
        "\n",
        "\n"
      ]
    },
    {
      "cell_type": "code",
      "metadata": {
        "colab": {
          "base_uri": "https://localhost:8080/"
        },
        "id": "PgXKfQxfmwq6",
        "outputId": "6254026c-fe09-4a23-bca1-9ef63a83989f"
      },
      "source": [
        "a = 5\n",
        "type(a)"
      ],
      "execution_count": null,
      "outputs": [
        {
          "output_type": "execute_result",
          "data": {
            "text/plain": [
              "int"
            ]
          },
          "metadata": {},
          "execution_count": 6
        }
      ]
    },
    {
      "cell_type": "markdown",
      "metadata": {
        "id": "lvfiKC-JuAla"
      },
      "source": [
        "Если вызвать функцию `int()` без аргумента, эта функция вернет 0"
      ]
    },
    {
      "cell_type": "code",
      "metadata": {
        "colab": {
          "base_uri": "https://localhost:8080/"
        },
        "id": "VbXKu46puLta",
        "outputId": "53aefd46-364b-4598-fa74-1c30b06f49ab"
      },
      "source": [
        "int()"
      ],
      "execution_count": null,
      "outputs": [
        {
          "output_type": "execute_result",
          "data": {
            "text/plain": [
              "0"
            ]
          },
          "metadata": {},
          "execution_count": 7
        }
      ]
    },
    {
      "cell_type": "markdown",
      "metadata": {
        "id": "jrlQK0csuN6z"
      },
      "source": [
        "Числа с плавающей точкой или другими словами вещественные числа.  \n",
        "Инициализация данной переменой можно осуществить следующим образом"
      ]
    },
    {
      "cell_type": "code",
      "metadata": {
        "colab": {
          "base_uri": "https://localhost:8080/"
        },
        "id": "4HWJvqwcuynA",
        "outputId": "873c68cd-51ed-4b6c-e113-755a0f5f4c10"
      },
      "source": [
        "a = 1.0 \n",
        "print('a is ', type(a))\n",
        "b = 23.3333\n",
        "print('b is ', type(b))\n",
        "c = float(5)\n",
        "print('c is ', type(c))\n"
      ],
      "execution_count": null,
      "outputs": [
        {
          "output_type": "stream",
          "name": "stdout",
          "text": [
            "a is  <class 'float'>\n",
            "b is  <class 'float'>\n",
            "c is  <class 'float'>\n"
          ]
        }
      ]
    },
    {
      "cell_type": "markdown",
      "metadata": {
        "id": "7FbBl8JvvGZd"
      },
      "source": [
        "Важным в математических и инженерных расчетах являются комплексные числа. Их инициализация производится с помощью функции `complex(real part, image part)` или использование символа мнимой единицы `1j`. \n"
      ]
    },
    {
      "cell_type": "code",
      "metadata": {
        "colab": {
          "base_uri": "https://localhost:8080/"
        },
        "id": "2TxaN9d7vgcp",
        "outputId": "fb85d2f8-0dbd-48d9-8705-69b2de5eb544"
      },
      "source": [
        "z1 = complex(1, 2)\n",
        "print('value of z1 is', 'type is', type(z1))\n",
        "z2 = 1+ 1j*2\n",
        "print('value of z2 is', 'type is', type(z2))"
      ],
      "execution_count": null,
      "outputs": [
        {
          "output_type": "stream",
          "name": "stdout",
          "text": [
            "value of z1 is type is <class 'complex'>\n",
            "value of z2 is type is <class 'complex'>\n"
          ]
        }
      ]
    },
    {
      "cell_type": "markdown",
      "metadata": {
        "id": "AD66zqVjwxft"
      },
      "source": [
        "# Основные операции над переменными чисел\n",
        "\n",
        "Если у переменнрй с типом float поменять тип на int, тогда число будет округлено в сторону нуля. Если переменную float конвертировать в тип complex, тогда мнимая часть будет равна нулю. \n",
        "```\n",
        "d = 15.78\n",
        "print(int(d))\n",
        "print(complex(d))\n",
        "```\n",
        "\n"
      ]
    },
    {
      "cell_type": "code",
      "metadata": {
        "colab": {
          "base_uri": "https://localhost:8080/"
        },
        "id": "JjF1NdxCxb2V",
        "outputId": "4f2e663d-023d-4eab-d879-de561613ccc6"
      },
      "source": [
        "d = 15.78\n",
        "print(int(d))\n",
        "print(complex(d))"
      ],
      "execution_count": null,
      "outputs": [
        {
          "output_type": "stream",
          "name": "stdout",
          "text": [
            "15\n",
            "(15.78+0j)\n"
          ]
        }
      ]
    },
    {
      "cell_type": "markdown",
      "metadata": {
        "id": "jJZr_Vbgy07E"
      },
      "source": [
        "**Функции для типа int**\n",
        "\n",
        "`abs(int_number)` - вывести модуль целового числа.\n",
        "\n",
        "**Функции для типа float**\n",
        "\n",
        "`abs(float_number)` - вывести модуль вещественного числа.\n",
        "\n",
        "Функция `round(float_number)` - округляет число в меньшую сторону. \n",
        "\n",
        "**Функции для типа complex**\n",
        "\n",
        "`abs(float_number)` - вывести модуль комплексного числа.\n",
        "\n",
        "`float_number.imag` - вывести реальную часть\n",
        "\n",
        "`float_number.real` - вывести мнимую часть\n",
        "\n",
        "`float_number.conjugate` - вывести сопряженное число\n",
        "\n"
      ]
    },
    {
      "cell_type": "code",
      "metadata": {
        "colab": {
          "base_uri": "https://localhost:8080/"
        },
        "id": "zgPvycE6yVnE",
        "outputId": "5b48ab2e-ac37-45b0-b73c-fc329cfdb124"
      },
      "source": [
        "int_number = -15\n",
        "print('Модуль числа', abs(int_number))\n",
        "\n",
        "float_number = -15.0\n",
        "print(type(round(float_number)), round(float_number))\n",
        "print(\"Модуль вещественного числа\", abs(float_number))\n",
        "\n",
        "complex_number = complex(-15, -15)\n",
        "\n",
        "print(float_number.imag)\n",
        "print(float_number.real)\n",
        "print(float_number.conjugate())\n",
        "print('Модуль комплексного числа', abs(complex_number))"
      ],
      "execution_count": null,
      "outputs": [
        {
          "output_type": "stream",
          "name": "stdout",
          "text": [
            "Модуль числа 15\n",
            "<class 'int'> -15\n",
            "Модуль вещественного числа 15.0\n",
            "0.0\n",
            "-15.0\n",
            "<built-in method conjugate of float object at 0x7f2896c5bd70>\n",
            "Модуль комплексного числа 21.213203435596427\n"
          ]
        }
      ]
    },
    {
      "cell_type": "markdown",
      "metadata": {
        "id": "ulK0f1gn2sVI"
      },
      "source": [
        "Произвести просты операции с числами"
      ]
    },
    {
      "cell_type": "code",
      "metadata": {
        "colab": {
          "base_uri": "https://localhost:8080/"
        },
        "id": "-u53rF6N2xLA",
        "outputId": "935ea525-2b35-4229-931c-46c63442328d"
      },
      "source": [
        "d1 = 15\n",
        "d2 = 2\n",
        "result = d1/ d2\n",
        "print('It is result', result, 'with type', type(result))\n",
        "\n",
        "result+=complex(1, 1)\n",
        "print('It is result', result, 'with type', type(result))\n",
        "\n",
        "result_real = result.real\n",
        "result_imag = result.imag\n",
        "result_conjugate = result.conjugate()\n",
        "print('It is real part', result_real, 'with type', type(result_real))\n",
        "print('It is real part', result_imag, 'with type', type(result_imag))\n",
        "print('It is conjugate', result_conjugate, 'with type', type(result_conjugate))"
      ],
      "execution_count": null,
      "outputs": [
        {
          "output_type": "stream",
          "name": "stdout",
          "text": [
            "It is result 7.5 with type <class 'float'>\n",
            "It is result (8.5+1j) with type <class 'complex'>\n",
            "It is real part 8.5 with type <class 'float'>\n",
            "It is real part 1.0 with type <class 'float'>\n",
            "It is conjugate (8.5-1j) with type <class 'complex'>\n"
          ]
        }
      ]
    },
    {
      "cell_type": "markdown",
      "metadata": {
        "id": "h6bJ_myp4prZ"
      },
      "source": [
        "# Работа со строками. Тип str. \n",
        "\n",
        "Тип строки переменной в Python подрозумевает под собой текстовые данные. Один из самых популярных программ в Pytho - это вовод строки Hello world. "
      ]
    },
    {
      "cell_type": "code",
      "metadata": {
        "colab": {
          "base_uri": "https://localhost:8080/"
        },
        "id": "dURBZLi65tlB",
        "outputId": "4cb2850e-031f-46e0-f868-b6b992b6556c"
      },
      "source": [
        "print('Hello world')"
      ],
      "execution_count": null,
      "outputs": [
        {
          "output_type": "stream",
          "name": "stdout",
          "text": [
            "Hello world\n"
          ]
        }
      ]
    },
    {
      "cell_type": "markdown",
      "metadata": {
        "id": "to3oerua5wZv"
      },
      "source": [
        "Инициализация переменной типа str осуществляется с помощью двух паострофов или кавычек. Между этими методами разницы нет. \n",
        "Приведем, примеры"
      ]
    },
    {
      "cell_type": "code",
      "metadata": {
        "colab": {
          "base_uri": "https://localhost:8080/"
        },
        "id": "jCRAaKGD6Y0z",
        "outputId": "8a042b95-51a2-4424-a33e-41bd98a07f5f"
      },
      "source": [
        "test_text1 = 'Hello world'\n",
        "print(test_text1)\n",
        "test_text2 = \"Hello world\"\n",
        "print(test_text2)"
      ],
      "execution_count": null,
      "outputs": [
        {
          "output_type": "stream",
          "name": "stdout",
          "text": [
            "Hello world\n",
            "Hello world\n"
          ]
        }
      ]
    },
    {
      "cell_type": "markdown",
      "metadata": {
        "id": "IOiI_NjA6u7q"
      },
      "source": [
        "Основные функции доступные для обработки переменных строки\n",
        "\n",
        "\n",
        "*   Оператор `+` присоединяет одну строку к другой\n",
        "*   Оператор `*` дублирует строку n раз. \n",
        "*   Функция len(string) -  возвращает колиество символов в строке\n",
        "\n",
        "\n"
      ]
    },
    {
      "cell_type": "code",
      "metadata": {
        "colab": {
          "base_uri": "https://localhost:8080/"
        },
        "id": "A1c0LrJ67C9g",
        "outputId": "d6a2f010-d5a8-4d6a-eade-6a1ad5926bfd"
      },
      "source": [
        "string1 = 'hello'\n",
        "string2 = 'bye bye'\n",
        "\n",
        "print(string1+string2)\n",
        "print(string1*3)\n",
        "print(len(string1))"
      ],
      "execution_count": null,
      "outputs": [
        {
          "output_type": "stream",
          "name": "stdout",
          "text": [
            "hellobye bye\n",
            "hellohellohello\n",
            "5\n"
          ]
        }
      ]
    },
    {
      "cell_type": "markdown",
      "metadata": {
        "id": "Bjtor2ab8OQW"
      },
      "source": [
        "Интересной функцией является вовод символов по порядковому номеру. Для этого после названия переменной в квадратных скобках необходимо указать номер символа. Символ `:` указывает, что вывести все символы."
      ]
    },
    {
      "cell_type": "code",
      "metadata": {
        "colab": {
          "base_uri": "https://localhost:8080/"
        },
        "id": "Jaun4LCS8VBV",
        "outputId": "000fd70f-5dd0-46d2-91d3-24556bca7105"
      },
      "source": [
        "print(string1[:]+string2[3:])"
      ],
      "execution_count": null,
      "outputs": [
        {
          "output_type": "stream",
          "name": "stdout",
          "text": [
            "hello bye\n"
          ]
        }
      ]
    },
    {
      "cell_type": "markdown",
      "metadata": {
        "id": "JaQjolG79Fol"
      },
      "source": [
        "Часто всречаются многострочные тексты. Для реализации такой переменной с текстом в Python необходимо использовать экранированные операторы. \n",
        "\n",
        "*   \\n первеод на новую строку\n",
        "*   \\t горизонтальная табуляция\n",
        "*   \\v вертикальная табуляция\n",
        "\n",
        "Удобно также использовать тройные кавычки или апострафы для рабоыт смногострочным текстом. "
      ]
    },
    {
      "cell_type": "code",
      "metadata": {
        "colab": {
          "base_uri": "https://localhost:8080/"
        },
        "id": "YkHNK4v29mah",
        "outputId": "0430a501-975f-4da4-8d7c-ecaef300326e"
      },
      "source": [
        "string3 = '\\t Hello world \\n and buy world, \\n \\t but we are here'\n",
        "print(string3)\n",
        "\n",
        "string4 = '''Hello world \n",
        "we are here but \n",
        "we are goin to leave'''\n",
        "print(string4)"
      ],
      "execution_count": null,
      "outputs": [
        {
          "output_type": "stream",
          "name": "stdout",
          "text": [
            "\t Hello world \n",
            " and buy world, \n",
            " \t but we are here\n",
            "Hello world \n",
            "we are here but \n",
            "we are goin to leave\n"
          ]
        }
      ]
    },
    {
      "cell_type": "markdown",
      "metadata": {
        "id": "oDHddtwwlZ9m"
      },
      "source": [
        "#Работа со списками \n",
        "Списки в Python (list) - упорядоченные изменяемые коллекции объектов произвольных типов (почти как массив, но типы могут отличаться).\n",
        "Создать переменную списка можно с помощью квадртаных скобок или функции list(). \n",
        "\n"
      ]
    },
    {
      "cell_type": "code",
      "metadata": {
        "colab": {
          "base_uri": "https://localhost:8080/"
        },
        "id": "pVK6_szR_FEs",
        "outputId": "5847f13b-02bc-4d96-e4f7-100f6e636f9d"
      },
      "source": [
        "new_list = [1, 2, 3, 'heello', 23*1j]\n",
        "print(new_list, type(new_list))\n",
        "\n",
        "new_list_2 = list('hello wolrd')\n",
        "print(new_list_2)"
      ],
      "execution_count": null,
      "outputs": [
        {
          "output_type": "stream",
          "name": "stdout",
          "text": [
            "[1, 2, 3, 'heello', 23j] <class 'list'>\n",
            "['h', 'e', 'l', 'l', 'o', ' ', 'w', 'o', 'l', 'r', 'd']\n"
          ]
        }
      ]
    },
    {
      "cell_type": "markdown",
      "metadata": {
        "id": "fvEvld3O_16v"
      },
      "source": [
        "Основыне функции работы со списками \n",
        "\n",
        "`list.append(x)` - добавить элемент x в конец списка list\n",
        "\n",
        "`list.extend(L)` - расширить list списком L\n",
        "\n",
        "l`ist.insert(i, x)` - вставить x на i место в списке list\n",
        "\n",
        "`list.remove(x)` - удалить первый элемент со значением x в списке list\n",
        "\n",
        "`list.pop([i])` - удалить i  элемент\n",
        "\n",
        "`list.reverse()` - сделать обратную последовательность списка\n",
        "\n",
        "`list.clear()` - удалить список"
      ]
    },
    {
      "cell_type": "code",
      "metadata": {
        "colab": {
          "base_uri": "https://localhost:8080/"
        },
        "id": "fsbjhpgBArDV",
        "outputId": "d746c4ce-dd1b-483a-85d7-b7162fcc14e7"
      },
      "source": [
        "my_list = [1, 2, 3, 4]\n",
        "\n",
        "my_list_new = [3, 4, 5, 10]\n",
        "\n",
        "i = 5\n",
        "\n",
        "my_list.append(my_list_new)\n",
        "print(my_list)\n",
        "\n",
        "my_list.extend(my_list_new)\n",
        "print(my_list)\n",
        "\n",
        "my_list.insert(i, my_list_new)\n",
        "print(my_list)\n",
        "\n",
        "my_list.remove(my_list_new)\n",
        "print(my_list)\n",
        "\n",
        "my_list.pop(i)\n",
        "print(my_list)\n",
        "\n",
        "my_list.reverse()\n",
        "print(my_list)\n",
        "\n",
        "my_list.clear()\n",
        "print(my_list)"
      ],
      "execution_count": null,
      "outputs": [
        {
          "output_type": "stream",
          "name": "stdout",
          "text": [
            "[1, 2, 3, 4, [3, 4, 5, 10]]\n",
            "[1, 2, 3, 4, [3, 4, 5, 10], 3, 4, 5, 10]\n",
            "[1, 2, 3, 4, [3, 4, 5, 10], [3, 4, 5, 10], 3, 4, 5, 10]\n",
            "[1, 2, 3, 4, [3, 4, 5, 10], 3, 4, 5, 10]\n",
            "[1, 2, 3, 4, [3, 4, 5, 10], 4, 5, 10]\n",
            "[10, 5, 4, [3, 4, 5, 10], 4, 3, 2, 1]\n",
            "[]\n"
          ]
        }
      ]
    },
    {
      "cell_type": "markdown",
      "metadata": {
        "id": "2fudW5ewCmSt"
      },
      "source": [
        "## Доступ к элементам списка.\n",
        "\n",
        "Доступ к элементам списка осуществляется с помощью порядкого номера, который указывается в квадратных скобках после переменной списка. \n",
        "Доступ по индексу `list[10]`. Можно вывести сразу выборку от i до j элемента `list[i:j]`. Стоит отметить, что элемент с номером j не входит в срез. Нумерация производится с нулевого номера элемента. В языке Python доступны отрицательные номера индексов, это означает обратную индексацию или другими словами отсчет с конца списка. \n",
        "\n"
      ]
    },
    {
      "cell_type": "code",
      "metadata": {
        "colab": {
          "base_uri": "https://localhost:8080/"
        },
        "id": "IKyeaoQJD-hI",
        "outputId": "a3daa38d-def5-4f18-f469-4d9399044e19"
      },
      "source": [
        "new_list_4 = [1, 2, 3, 4, 5, 6, 7, 8, 9, 10]\n",
        "\n",
        "print(new_list_4[0])\n",
        "print(new_list_4[-1])\n",
        "print(new_list_4[2:3])\n",
        "print(new_list_4[2:7])\n",
        "print(new_list_4[0:-1:2])\n",
        "print(new_list_4[0:-1:3])"
      ],
      "execution_count": null,
      "outputs": [
        {
          "output_type": "stream",
          "name": "stdout",
          "text": [
            "1\n",
            "10\n",
            "[3]\n",
            "[3, 4, 5, 6, 7]\n",
            "[1, 3, 5, 7, 9]\n",
            "[1, 4, 7]\n"
          ]
        }
      ]
    },
    {
      "cell_type": "markdown",
      "metadata": {
        "id": "oJ5m45NKGb-p"
      },
      "source": [
        "Элементы списка можно изменять обращаясь к ним по индесам и используя оператор присваивания. "
      ]
    },
    {
      "cell_type": "code",
      "metadata": {
        "colab": {
          "base_uri": "https://localhost:8080/"
        },
        "id": "sOPOWcdbGyml",
        "outputId": "2b9ea5a8-014a-4fad-ab0c-7f094e899ec9"
      },
      "source": [
        "new_list_4 = [1, 2, 3, 4, 5, 6, 7, 8, 9, 10]\n",
        "print(new_list_4)\n",
        "new_list_4[0] = 'I am new here'\n",
        "print(new_list_4)\n",
        "new_list_4[-1] = 'I am new here'\n",
        "print(new_list_4)"
      ],
      "execution_count": null,
      "outputs": [
        {
          "output_type": "stream",
          "name": "stdout",
          "text": [
            "[1, 2, 3, 4, 5, 6, 7, 8, 9, 10]\n",
            "['I am new here', 2, 3, 4, 5, 6, 7, 8, 9, 10]\n",
            "['I am new here', 2, 3, 4, 5, 6, 7, 8, 9, 'I am new here']\n"
          ]
        }
      ]
    },
    {
      "cell_type": "markdown",
      "metadata": {
        "id": "_IDqnfpey4iS"
      },
      "source": [
        "Операции над списками"
      ]
    },
    {
      "cell_type": "code",
      "metadata": {
        "colab": {
          "base_uri": "https://localhost:8080/",
          "height": 266
        },
        "id": "iuh0QA-ey6Z5",
        "outputId": "406320fe-f07c-426f-f716-388c80f34270"
      },
      "source": [
        "list_1 = [1, 2, 3]\n",
        "list_2 = [3, 4, 5]\n",
        "k = 2\n",
        "print(list_1 * k)\n",
        "print(k*list_1)\n",
        "print(list_1 + list_2)\n",
        "\n",
        "#print(list_1 * list_2) error"
      ],
      "execution_count": null,
      "outputs": [
        {
          "output_type": "stream",
          "name": "stdout",
          "text": [
            "[1, 2, 3, 1, 2, 3]\n",
            "[1, 2, 3, 1, 2, 3]\n",
            "[1, 2, 3, 3, 4, 5]\n"
          ]
        },
        {
          "output_type": "error",
          "ename": "TypeError",
          "evalue": "ignored",
          "traceback": [
            "\u001b[0;31m---------------------------------------------------------------------------\u001b[0m",
            "\u001b[0;31mTypeError\u001b[0m                                 Traceback (most recent call last)",
            "\u001b[0;32m<ipython-input-121-12481ceb3dc5>\u001b[0m in \u001b[0;36m<module>\u001b[0;34m()\u001b[0m\n\u001b[1;32m      5\u001b[0m \u001b[0mprint\u001b[0m\u001b[0;34m(\u001b[0m\u001b[0mk\u001b[0m\u001b[0;34m*\u001b[0m\u001b[0mlist_1\u001b[0m\u001b[0;34m)\u001b[0m\u001b[0;34m\u001b[0m\u001b[0;34m\u001b[0m\u001b[0m\n\u001b[1;32m      6\u001b[0m \u001b[0mprint\u001b[0m\u001b[0;34m(\u001b[0m\u001b[0mlist_1\u001b[0m \u001b[0;34m+\u001b[0m \u001b[0mlist_2\u001b[0m\u001b[0;34m)\u001b[0m\u001b[0;34m\u001b[0m\u001b[0;34m\u001b[0m\u001b[0m\n\u001b[0;32m----> 7\u001b[0;31m \u001b[0mprint\u001b[0m\u001b[0;34m(\u001b[0m\u001b[0mlist_1\u001b[0m \u001b[0;34m*\u001b[0m \u001b[0mlist_2\u001b[0m\u001b[0;34m)\u001b[0m\u001b[0;34m\u001b[0m\u001b[0;34m\u001b[0m\u001b[0m\n\u001b[0m",
            "\u001b[0;31mTypeError\u001b[0m: can't multiply sequence by non-int of type 'list'"
          ]
        }
      ]
    },
    {
      "cell_type": "markdown",
      "metadata": {
        "id": "WnLx_pFTEwnf"
      },
      "source": [
        "Кортежи (tuple) в Python – это те же списки за одним исключением. Кортежи неизменяемые структуры данных. Так же как списки они могут состоять из элементов разных типов, перечисленных через запятую. Кортежи заключаются в круглые, а не квадратные скобки. Также можно их инициализировать с помощью функции tuple()"
      ]
    },
    {
      "cell_type": "code",
      "metadata": {
        "colab": {
          "base_uri": "https://localhost:8080/"
        },
        "id": "4ompwkt4E7z3",
        "outputId": "d2982fd8-c465-40a7-8b7e-22e75828b378"
      },
      "source": [
        "my_tuple = ()\n",
        "print('Это мой пустой кортедж ', my_tuple, \"тип корджа обозначается так\", type(my_tuple))\n",
        "\n",
        "my_tuple_new = ('hello world', 1, 3, 4, [123])\n",
        "print('Это мой пустой кортедж ', my_tuple_new, \"тип корджа обозначается так\", type(my_tuple_new))\n"
      ],
      "execution_count": null,
      "outputs": [
        {
          "output_type": "stream",
          "name": "stdout",
          "text": [
            "Это мой пустой кортедж  () тип корджа обозначается так <class 'tuple'>\n",
            "Это мой пустой кортедж  ('hello world', 1, 3, 4, [123]) тип корджа обозначается так <class 'tuple'>\n"
          ]
        }
      ]
    },
    {
      "cell_type": "markdown",
      "metadata": {
        "id": "uT0spzoAF680"
      },
      "source": [
        "Можно извлекать элементы из кортежа и брать срезы как со списками"
      ]
    },
    {
      "cell_type": "code",
      "metadata": {
        "colab": {
          "base_uri": "https://localhost:8080/"
        },
        "id": "_I_x_xQlGFfB",
        "outputId": "5f56b404-e0c8-4996-d8fe-f9a484fe728b"
      },
      "source": [
        "print(my_tuple_new[2])\n",
        "print(my_tuple_new[2:5])"
      ],
      "execution_count": null,
      "outputs": [
        {
          "output_type": "stream",
          "name": "stdout",
          "text": [
            "3\n",
            "(3, 4, [123])\n"
          ]
        }
      ]
    },
    {
      "cell_type": "markdown",
      "metadata": {
        "id": "zlsvvzzHICla"
      },
      "source": [
        "Но мы не можем заменять элементы в кортеже"
      ]
    },
    {
      "cell_type": "code",
      "metadata": {
        "id": "K_wgB2IvIItX"
      },
      "source": [
        "my_tuple_new[2] = 3"
      ],
      "execution_count": null,
      "outputs": []
    },
    {
      "cell_type": "markdown",
      "metadata": {
        "id": "QjeECuvWlPm2"
      },
      "source": [
        "#Тип переменной словарь\n",
        "\n",
        "Тип переменной словарь часто используется в программах Python. Python словарь - это упорядоченый набор данных доступ к которым производится с помощью ключа. Словарь является подобием списко, только доступ к ним осуществляется не по индексу,а по произвольному ключу. Ключем может быть любой неизменяемый тип данных Python. Значит кортеж может быть ключем, а списки нет. "
      ]
    },
    {
      "cell_type": "code",
      "metadata": {
        "colab": {
          "base_uri": "https://localhost:8080/"
        },
        "id": "Jo5gLkz2K1hE",
        "outputId": "797ce0f5-1747-4324-a4b3-21b94ac8bcd9"
      },
      "source": [
        "my_empty_dictionary = {}\n",
        "my_dictionary_1 = {'myName': 'Ivan', 'myLastName': 'Smolianov'}\n",
        "\n",
        "print(my_dictionary_1)\n",
        "\n",
        "my_dictionary_2 = dict(myName='Ivan', myLastName='Smolianov')\n",
        "print(my_dictionary_2)\n",
        "my_dictionary_3 = dict.fromkeys(['myName', 'myLastName'], 'Ivan Smolianov')\n",
        "print(my_dictionary_3)"
      ],
      "execution_count": null,
      "outputs": [
        {
          "output_type": "stream",
          "name": "stdout",
          "text": [
            "{'myName': 'Ivan', 'myLastName': 'Smolianov'}\n",
            "{'myName': 'Ivan', 'myLastName': 'Smolianov'}\n",
            "{'myName': 'Ivan Smolianov', 'myLastName': 'Ivan Smolianov'}\n"
          ]
        }
      ]
    },
    {
      "cell_type": "markdown",
      "metadata": {
        "id": "vXwyGf8TNwWm"
      },
      "source": [
        "Вывод значений словаря"
      ]
    },
    {
      "cell_type": "code",
      "metadata": {
        "colab": {
          "base_uri": "https://localhost:8080/"
        },
        "id": "YJbRolKWN0z_",
        "outputId": "95701cb5-e5e4-4f15-9d29-a61e84d19f8a"
      },
      "source": [
        "new_dict = {'numbers': [1,2,3,4],\n",
        "            'characters': ['a', 'b', 'c'],\n",
        "            'float_values': [25.3, 34.6, 37.2]}\n",
        "\n",
        "print(new_dict['numbers'])\n",
        "print(new_dict['characters'])\n",
        "print(new_dict['float_values'])"
      ],
      "execution_count": null,
      "outputs": [
        {
          "output_type": "stream",
          "name": "stdout",
          "text": [
            "[1, 2, 3, 4]\n",
            "['a', 'b', 'c']\n",
            "[25.3, 34.6, 37.2]\n"
          ]
        }
      ]
    },
    {
      "cell_type": "markdown",
      "metadata": {
        "id": "sRiRMKeIOamh"
      },
      "source": [
        "Можно заменить значение словаря обращаясь к нему по ключу и используя знак присваивание. "
      ]
    },
    {
      "cell_type": "code",
      "metadata": {
        "colab": {
          "base_uri": "https://localhost:8080/"
        },
        "id": "xSCycMddOhj5",
        "outputId": "94f7d0de-80ad-40e6-95de-905e69c0e860"
      },
      "source": [
        "new_dict['numbers'] = 'new numbers'\n",
        "new_dict['characters'] = 'here change something'\n",
        "print(new_dict)\n"
      ],
      "execution_count": null,
      "outputs": [
        {
          "output_type": "stream",
          "name": "stdout",
          "text": [
            "{'numbers': 'new numbers', 'characters': 'here change something', 'float_values': [25.3, 34.6, 37.2]}\n"
          ]
        }
      ]
    },
    {
      "cell_type": "markdown",
      "metadata": {
        "id": "s4tjG1JrMrul"
      },
      "source": [
        "#Основные функции работы со словарем \n",
        "\n",
        "`dict.values()` - выводит значения в словаре\n",
        "\n",
        "`dict.keys()` - выводит список всех ключей словаря\n",
        "\n",
        "`dict.items` - возвращает пару ключ и значение\n",
        "\n",
        "`dict.pop(key)` - удаляет ключ и возращает значение. \n",
        "\n",
        "`dict.get(key)` - возвращает значение по ключу, если нет такого ключа возвращает тип `None`. "
      ]
    },
    {
      "cell_type": "code",
      "metadata": {
        "id": "Sa6_V9lEQjY3"
      },
      "source": [
        "our_new_dict = {'students': ['Vasya, Petya', 'Sasha'],\n",
        "                'Marks': [3, 4, 5],\n",
        "                1: ['test1, test2, test3'],\n",
        "                (1,2,3): 'test tuple'}\n",
        "print('It is our values of dictionary', our_new_dict.values())\n",
        "print('It is our keys of dictionary', our_new_dict.keys())\n",
        "print('It is ourvalues of dictionary', our_new_dict.values())"
      ],
      "execution_count": null,
      "outputs": []
    }
  ]
}