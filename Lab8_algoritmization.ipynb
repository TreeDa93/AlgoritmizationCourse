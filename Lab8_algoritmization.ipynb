{
 "cells": [
  {
   "cell_type": "markdown",
   "id": "6751dfb8",
   "metadata": {},
   "source": [
    "# Лабораторная работа № 8. Практика ввода и вывода данных. Загрузка файлов, данных и манипуляции над ними. "
   ]
  },
  {
   "cell_type": "markdown",
   "id": "e5e00ca9",
   "metadata": {},
   "source": [
    "Цель работы - научиться работать с внешними файлами в языке программирования Python. "
   ]
  },
  {
   "cell_type": "markdown",
   "id": "7f64fd4f",
   "metadata": {},
   "source": [
    "Задачи:\n",
    "\n",
    "Задача 1. Научиться работать с функцией open. \n",
    "\n",
    "Задача 2. Понять принцип  чтения, записи файлов. \n",
    "\n",
    "Задача 3. Понять назначение команды with в языке Python. "
   ]
  },
  {
   "cell_type": "markdown",
   "id": "d5b11e14",
   "metadata": {},
   "source": [
    "### 1. Чтение из файла.\n",
    "Чтение файлов осуществляется с помощью встроенной функции open(name_file, 'тип чтения'). Эта функция принимает \n",
    "название файла или его путь (name_file) и  режим чтения (mode). \n",
    "Режим чтения указывает как необходимо работать с файлом. Поумолчанию режим чтеия в этйо функции rt. \n",
    "\n",
    "\n",
    "Эти режимы могу быть скомбенированы, например rb открывает двоичные файлы для чтения. \n",
    "\n",
    "После прочтения файла с помощью функции open(), создасться класс. Этот клас имеет несколько методов \n",
    "   * name - вывести название прочитанного файла\n",
    "   * mode - режим рабоыт с файлом\n",
    "   * closed - вывести True если файл закрыт. \n",
    "    \n",
    "Завершение рабоыт с файлом осуществляется закрытием файла с помощью функции close(), что удаляет экземпляр класса открытого файла в ящыке Python. \n",
    "#### 1.1. Попробуем прочитать не существующий файл noFile.txt в режиме чтения \"r\". "
   ]
  },
  {
   "cell_type": "code",
   "execution_count": 14,
   "id": "591dbf66",
   "metadata": {},
   "outputs": [
    {
     "ename": "FileNotFoundError",
     "evalue": "[Errno 2] No such file or directory: 'nofile.txt'",
     "output_type": "error",
     "traceback": [
      "\u001b[0;31m---------------------------------------------------------------------------\u001b[0m",
      "\u001b[0;31mFileNotFoundError\u001b[0m                         Traceback (most recent call last)",
      "\u001b[0;32m<ipython-input-14-d0f4816e331d>\u001b[0m in \u001b[0;36m<module>\u001b[0;34m\u001b[0m\n\u001b[0;32m----> 1\u001b[0;31m \u001b[0mmyFile\u001b[0m \u001b[0;34m=\u001b[0m \u001b[0mopen\u001b[0m\u001b[0;34m(\u001b[0m\u001b[0;34m'nofile.txt'\u001b[0m\u001b[0;34m,\u001b[0m \u001b[0;34m'r'\u001b[0m\u001b[0;34m)\u001b[0m\u001b[0;34m\u001b[0m\u001b[0;34m\u001b[0m\u001b[0m\n\u001b[0m",
      "\u001b[0;31mFileNotFoundError\u001b[0m: [Errno 2] No such file or directory: 'nofile.txt'"
     ]
    }
   ],
   "source": [
    "myFile = open('nofile.txt', 'r')"
   ]
  },
  {
   "cell_type": "markdown",
   "id": "39e5bb8d",
   "metadata": {},
   "source": [
    "Получили ошибку! "
   ]
  },
  {
   "cell_type": "markdown",
   "id": "c50be917",
   "metadata": {},
   "source": [
    "1.2. Прочитаем существующий файл text.txt в режиме 'r'"
   ]
  },
  {
   "cell_type": "code",
   "execution_count": null,
   "id": "c8c01c01",
   "metadata": {},
   "outputs": [],
   "source": [
    "myFile = open('text.txt', 'r')"
   ]
  },
  {
   "cell_type": "markdown",
   "id": "22d197f7",
   "metadata": {},
   "source": [
    "Прочитанный файл представляет собой последовательность символов. Выведем первый символ на экран, а затем все символы. "
   ]
  },
  {
   "cell_type": "code",
   "execution_count": null,
   "id": "a4d2c413",
   "metadata": {},
   "outputs": [],
   "source": [
    "print(myFile.read(1))\n",
    "print(myFile.read())"
   ]
  },
  {
   "cell_type": "markdown",
   "id": "24fd7409",
   "metadata": {},
   "source": [
    "Видим, что после вывода первого символа, он исчезает из объекта. Закроем экземпляр файла и попытаемся его прочитать. "
   ]
  },
  {
   "cell_type": "code",
   "execution_count": 15,
   "id": "8abf9884",
   "metadata": {},
   "outputs": [
    {
     "ename": "ValueError",
     "evalue": "I/O operation on closed file.",
     "output_type": "error",
     "traceback": [
      "\u001b[0;31m---------------------------------------------------------------------------\u001b[0m",
      "\u001b[0;31mValueError\u001b[0m                                Traceback (most recent call last)",
      "\u001b[0;32m<ipython-input-15-d2ef14edd04f>\u001b[0m in \u001b[0;36m<module>\u001b[0;34m\u001b[0m\n\u001b[1;32m      1\u001b[0m \u001b[0mmyFile\u001b[0m\u001b[0;34m.\u001b[0m\u001b[0mclose\u001b[0m\u001b[0;34m(\u001b[0m\u001b[0;34m)\u001b[0m\u001b[0;34m\u001b[0m\u001b[0;34m\u001b[0m\u001b[0m\n\u001b[0;32m----> 2\u001b[0;31m \u001b[0mmyFile\u001b[0m\u001b[0;34m.\u001b[0m\u001b[0mread\u001b[0m\u001b[0;34m(\u001b[0m\u001b[0;34m)\u001b[0m\u001b[0;34m\u001b[0m\u001b[0;34m\u001b[0m\u001b[0m\n\u001b[0m",
      "\u001b[0;31mValueError\u001b[0m: I/O operation on closed file."
     ]
    }
   ],
   "source": [
    "myFile.close()\n",
    "myFile.read()"
   ]
  },
  {
   "cell_type": "markdown",
   "id": "1328fb65",
   "metadata": {},
   "source": [
    "Полуим ошибку, что такой переменной нет. Следовательно, экземпляр объекта был удален. Откром файл заново в режиме чтения и напечаетаем его содержимое. "
   ]
  },
  {
   "cell_type": "code",
   "execution_count": null,
   "id": "0b67d7c8",
   "metadata": {},
   "outputs": [],
   "source": [
    "myFile = open('text.txt', 'r')\n",
    "print(myFile.read())"
   ]
  },
  {
   "cell_type": "markdown",
   "id": "0f2b5343",
   "metadata": {},
   "source": [
    "Закроем файл и откроем его заново в режиме чтения. С помощью цикла выведем на экран содержимое файла по строчно. "
   ]
  },
  {
   "cell_type": "code",
   "execution_count": null,
   "id": "93f21d76",
   "metadata": {},
   "outputs": [],
   "source": [
    "myFile = open('text.txt', 'r')\n",
    "\n",
    "for line in myFile:\n",
    "    print(line)"
   ]
  },
  {
   "cell_type": "markdown",
   "id": "50b61547",
   "metadata": {},
   "source": [
    "### Запись в файл "
   ]
  },
  {
   "cell_type": "markdown",
   "id": "c8a4a679",
   "metadata": {},
   "source": [
    "Запись файлов осуществляется с помощью открытия файла с аргументов 'w' или 'w+'. Чтобы записать, строку в файл вызовем метод write(). Эта функция может принимать только строки.  "
   ]
  },
  {
   "cell_type": "code",
   "execution_count": 16,
   "id": "72cee8e6",
   "metadata": {},
   "outputs": [
    {
     "data": {
      "text/plain": [
       "14"
      ]
     },
     "execution_count": 16,
     "metadata": {},
     "output_type": "execute_result"
    }
   ],
   "source": [
    "my_new_file = open('newFile.txt', 'w')\n",
    "my_new_file.write('Hello new file')"
   ]
  },
  {
   "cell_type": "markdown",
   "id": "801ede35",
   "metadata": {},
   "source": [
    "Проверьте запись в файле newFile.txt. Можно заметить не каких изменений не появилось. Для того чтобы запись появилась в текстовом файле, его необходимо закрыть. "
   ]
  },
  {
   "cell_type": "code",
   "execution_count": 17,
   "id": "1de8748f",
   "metadata": {},
   "outputs": [],
   "source": [
    "my_new_file.close()"
   ]
  },
  {
   "cell_type": "markdown",
   "id": "8a3821a4",
   "metadata": {},
   "source": [
    "Проверьте еще раз! Запись добавляеться в файл только после его закрытия в программе Python. "
   ]
  },
  {
   "cell_type": "markdown",
   "id": "ca51b627",
   "metadata": {},
   "source": [
    "Выполнение функции open с аргументами 'w', 'w+', 'a', 'a+' позволяет создавать файл если его нет. "
   ]
  },
  {
   "cell_type": "code",
   "execution_count": 18,
   "id": "a48c4cbf",
   "metadata": {},
   "outputs": [
    {
     "data": {
      "text/plain": [
       "14"
      ]
     },
     "execution_count": 18,
     "metadata": {},
     "output_type": "execute_result"
    }
   ],
   "source": [
    "my_new_file = open('newFile2.txt', 'w')\n",
    "my_new_file.write('Hello new file')"
   ]
  },
  {
   "cell_type": "markdown",
   "id": "71bcc549",
   "metadata": {},
   "source": [
    "Без указания символа \"+\" вывод содержимого открытого файла не возможен! Првоерим это утверждение. "
   ]
  },
  {
   "cell_type": "code",
   "execution_count": 19,
   "id": "43108e0d",
   "metadata": {},
   "outputs": [
    {
     "ename": "UnsupportedOperation",
     "evalue": "not readable",
     "output_type": "error",
     "traceback": [
      "\u001b[0;31m---------------------------------------------------------------------------\u001b[0m",
      "\u001b[0;31mUnsupportedOperation\u001b[0m                      Traceback (most recent call last)",
      "\u001b[0;32m<ipython-input-19-15ecf622dcbe>\u001b[0m in \u001b[0;36m<module>\u001b[0;34m\u001b[0m\n\u001b[0;32m----> 1\u001b[0;31m \u001b[0mmy_new_file\u001b[0m\u001b[0;34m.\u001b[0m\u001b[0mread\u001b[0m\u001b[0;34m(\u001b[0m\u001b[0;34m)\u001b[0m\u001b[0;34m\u001b[0m\u001b[0;34m\u001b[0m\u001b[0m\n\u001b[0m",
      "\u001b[0;31mUnsupportedOperation\u001b[0m: not readable"
     ]
    }
   ],
   "source": [
    "my_new_file.read()"
   ]
  },
  {
   "cell_type": "code",
   "execution_count": null,
   "id": "5df59a3a",
   "metadata": {},
   "outputs": [],
   "source": [
    "my_new_file = open('newFile.txt', 'w+')\n",
    "print(my_new_file.read())\n",
    "my_new_file.close()"
   ]
  },
  {
   "cell_type": "markdown",
   "id": "c40a33cc",
   "metadata": {},
   "source": [
    "Из выше проделанных процедур понятно, что тип доступа 'w', 'w+' перезаписывает содержимое файла, но пользователю иногда надо добавить новые данные поверх старых. Это можно сделать с помощью доступа по аргументам 'a' и 'a+'. "
   ]
  },
  {
   "cell_type": "code",
   "execution_count": null,
   "id": "87759fd4",
   "metadata": {},
   "outputs": [],
   "source": [
    "my_new_file = open('newFile.txt', 'a+')\n",
    "my_new_file.write('\\n Hello new file')\n",
    "my_new_file.close()"
   ]
  },
  {
   "cell_type": "markdown",
   "id": "09e30f03",
   "metadata": {},
   "source": [
    "Удобным способом работы с файлами в Python является открытие файла с помощью конструкции \n",
    "\n",
    "```\n",
    "with open(file, mode) as var:\n",
    "    функция 1 над объектом var\n",
    "    функция 2 над объектом var\n",
    "    ....\n",
    "    функция N над объектом var\n",
    "    \n",
    "здесь функция уже закрывается\n",
    "```\n",
    "\n",
    "После выхода из тела функции `with as:` Python сам закрывает файл. "
   ]
  },
  {
   "cell_type": "code",
   "execution_count": null,
   "id": "5ea79467",
   "metadata": {},
   "outputs": [],
   "source": [
    "with open('newFile.txt', 'r') as file:\n",
    "    print(file.read())"
   ]
  },
  {
   "cell_type": "markdown",
   "id": "123108e0",
   "metadata": {},
   "source": [
    "Проверьте запись. Удобство работы с командой with, что не обязательно закрывать файл, после выходи из тела with Python его закроет сам. \n",
    "\n",
    "Запишем что-нибудь в файл, а затем прочитаем его и выведем на экран. "
   ]
  },
  {
   "cell_type": "code",
   "execution_count": null,
   "id": "e718e920",
   "metadata": {},
   "outputs": [],
   "source": [
    "with open('newFile.txt', 'w') as file:\n",
    "    file.write('test')"
   ]
  },
  {
   "cell_type": "code",
   "execution_count": null,
   "id": "827219c4",
   "metadata": {},
   "outputs": [],
   "source": [
    "with open('newFile.txt', 'w+') as file:\n",
    "    print(file.read())"
   ]
  },
  {
   "cell_type": "markdown",
   "id": "f40e8041",
   "metadata": {},
   "source": [
    "Перезапишим значение из одного файла в другой. Для этого откроем два файла с помощью функци `with as`.\n",
    "\n",
    "```with open as file1, open as file2, ... open as fileN```"
   ]
  },
  {
   "cell_type": "code",
   "execution_count": null,
   "id": "d0adc98b",
   "metadata": {},
   "outputs": [],
   "source": [
    "with open('newFile.txt', 'r') as file1, open('newfile3.txt', 'w+') as file2:\n",
    "    data = file1.read()\n",
    "    file2.write(data)"
   ]
  }
 ],
 "metadata": {
  "kernelspec": {
   "display_name": "Python 3",
   "language": "python",
   "name": "python3"
  },
  "language_info": {
   "codemirror_mode": {
    "name": "ipython",
    "version": 3
   },
   "file_extension": ".py",
   "mimetype": "text/x-python",
   "name": "python",
   "nbconvert_exporter": "python",
   "pygments_lexer": "ipython3",
   "version": "3.6.9"
  }
 },
 "nbformat": 4,
 "nbformat_minor": 5
}
