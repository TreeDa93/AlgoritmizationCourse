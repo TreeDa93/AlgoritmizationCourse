{
  "nbformat": 4,
  "nbformat_minor": 5,
  "metadata": {
    "kernelspec": {
      "display_name": "Python 3",
      "language": "python",
      "name": "python3"
    },
    "language_info": {
      "codemirror_mode": {
        "name": "ipython",
        "version": 3
      },
      "file_extension": ".py",
      "mimetype": "text/x-python",
      "name": "python",
      "nbconvert_exporter": "python",
      "pygments_lexer": "ipython3",
      "version": "3.6.9"
    },
    "colab": {
      "name": "Lab8_algoritmization.ipynb",
      "provenance": [],
      "include_colab_link": true
    }
  },
  "cells": [
    {
      "cell_type": "markdown",
      "metadata": {
        "id": "view-in-github",
        "colab_type": "text"
      },
      "source": [
        "<a href=\"https://colab.research.google.com/github/TreeDa93/AlgoritmizationCourse/blob/main/Lab8_algoritmization.ipynb\" target=\"_parent\"><img src=\"https://colab.research.google.com/assets/colab-badge.svg\" alt=\"Open In Colab\"/></a>"
      ]
    },
    {
      "cell_type": "markdown",
      "metadata": {
        "id": "6751dfb8"
      },
      "source": [
        "# Лабораторная работа № 8. Практика ввода и вывода данных. Загрузка файлов, данных и манипуляции над ними. "
      ],
      "id": "6751dfb8"
    },
    {
      "cell_type": "markdown",
      "metadata": {
        "id": "d5b11e14"
      },
      "source": [
        "1. Чтение из файла.\n",
        "Чтение файлов осуществляется с помощью встроенной функции open(name_file, 'тип чтения')\n",
        "1.1. Попробуем прочитать не существующий файл noFile.txt"
      ],
      "id": "d5b11e14"
    },
    {
      "cell_type": "code",
      "metadata": {
        "id": "591dbf66",
        "outputId": "4ac1827f-3fc6-4329-b246-377109cc6d30"
      },
      "source": [
        "myFile = open('nofile.txt', 'r')"
      ],
      "id": "591dbf66",
      "execution_count": null,
      "outputs": [
        {
          "ename": "FileNotFoundError",
          "evalue": "[Errno 2] No such file or directory: 'nofile.txt'",
          "output_type": "error",
          "traceback": [
            "\u001b[0;31m---------------------------------------------------------------------------\u001b[0m",
            "\u001b[0;31mFileNotFoundError\u001b[0m                         Traceback (most recent call last)",
            "\u001b[0;32m<ipython-input-2-d0f4816e331d>\u001b[0m in \u001b[0;36m<module>\u001b[0;34m\u001b[0m\n\u001b[0;32m----> 1\u001b[0;31m \u001b[0mmyFile\u001b[0m \u001b[0;34m=\u001b[0m \u001b[0mopen\u001b[0m\u001b[0;34m(\u001b[0m\u001b[0;34m'nofile.txt'\u001b[0m\u001b[0;34m,\u001b[0m \u001b[0;34m'r'\u001b[0m\u001b[0;34m)\u001b[0m\u001b[0;34m\u001b[0m\u001b[0;34m\u001b[0m\u001b[0m\n\u001b[0m",
            "\u001b[0;31mFileNotFoundError\u001b[0m: [Errno 2] No such file or directory: 'nofile.txt'"
          ]
        }
      ]
    },
    {
      "cell_type": "markdown",
      "metadata": {
        "id": "c50be917"
      },
      "source": [
        "1.2. Прочитаем существующий файл text.txt"
      ],
      "id": "c50be917"
    },
    {
      "cell_type": "code",
      "metadata": {
        "id": "c8c01c01"
      },
      "source": [
        "myFile = open('text.txt', 'r')"
      ],
      "id": "c8c01c01",
      "execution_count": null,
      "outputs": []
    },
    {
      "cell_type": "code",
      "metadata": {
        "id": "a4d2c413",
        "outputId": "dbe5c492-8ea3-415c-87e7-7dd6ddf33e90"
      },
      "source": [
        "print(myFile.read(1))\n",
        "print(myFile.read())"
      ],
      "id": "a4d2c413",
      "execution_count": null,
      "outputs": [
        {
          "name": "stdout",
          "output_type": "stream",
          "text": [
            "h\n",
            "ello world\n",
            "new string\n",
            "bye!\n",
            "\n"
          ]
        }
      ]
    },
    {
      "cell_type": "code",
      "metadata": {
        "id": "8abf9884",
        "outputId": "eebbf461-9607-4371-c885-9c8524b5da3a"
      },
      "source": [
        "myFile.close()\n",
        "myFile.read()"
      ],
      "id": "8abf9884",
      "execution_count": null,
      "outputs": [
        {
          "ename": "ValueError",
          "evalue": "I/O operation on closed file.",
          "output_type": "error",
          "traceback": [
            "\u001b[0;31m---------------------------------------------------------------------------\u001b[0m",
            "\u001b[0;31mValueError\u001b[0m                                Traceback (most recent call last)",
            "\u001b[0;32m<ipython-input-5-d2ef14edd04f>\u001b[0m in \u001b[0;36m<module>\u001b[0;34m\u001b[0m\n\u001b[1;32m      1\u001b[0m \u001b[0mmyFile\u001b[0m\u001b[0;34m.\u001b[0m\u001b[0mclose\u001b[0m\u001b[0;34m(\u001b[0m\u001b[0;34m)\u001b[0m\u001b[0;34m\u001b[0m\u001b[0;34m\u001b[0m\u001b[0m\n\u001b[0;32m----> 2\u001b[0;31m \u001b[0mmyFile\u001b[0m\u001b[0;34m.\u001b[0m\u001b[0mread\u001b[0m\u001b[0;34m(\u001b[0m\u001b[0;34m)\u001b[0m\u001b[0;34m\u001b[0m\u001b[0;34m\u001b[0m\u001b[0m\n\u001b[0m",
            "\u001b[0;31mValueError\u001b[0m: I/O operation on closed file."
          ]
        }
      ]
    },
    {
      "cell_type": "code",
      "metadata": {
        "id": "0b67d7c8",
        "outputId": "281a52e0-c708-4198-ba57-2a95025f3964"
      },
      "source": [
        "myFile = open('text.txt', 'r')\n",
        "print(myFile.read())"
      ],
      "id": "0b67d7c8",
      "execution_count": null,
      "outputs": [
        {
          "name": "stdout",
          "output_type": "stream",
          "text": [
            "hello world\n",
            "new string\n",
            "bye!\n",
            "\n"
          ]
        }
      ]
    },
    {
      "cell_type": "code",
      "metadata": {
        "id": "93f21d76",
        "outputId": "8672c9fc-721f-4478-8343-c1ebc0dc58b9"
      },
      "source": [
        "myFile = open('text.txt', 'r')\n",
        "\n",
        "for line in myFile:\n",
        "    print(line)"
      ],
      "id": "93f21d76",
      "execution_count": null,
      "outputs": [
        {
          "name": "stdout",
          "output_type": "stream",
          "text": [
            "hello world\n",
            "\n",
            "new string\n",
            "\n",
            "bye!\n",
            "\n"
          ]
        }
      ]
    },
    {
      "cell_type": "markdown",
      "metadata": {
        "id": "50b61547"
      },
      "source": [
        "# Запис в файл "
      ],
      "id": "50b61547"
    },
    {
      "cell_type": "markdown",
      "metadata": {
        "id": "c8a4a679"
      },
      "source": [
        "Запись файлов осуществляется с помощью открытия файла с аргументов 'w' или 'w+'. Чтобы записать, строку в файл вызовем метод write()"
      ],
      "id": "c8a4a679"
    },
    {
      "cell_type": "code",
      "metadata": {
        "id": "72cee8e6",
        "outputId": "cc1a5481-21d3-479e-d11b-44e98a90d9ef"
      },
      "source": [
        "my_new_file = open('newFile.txt', 'w')\n",
        "my_new_file.write('Hello new file')"
      ],
      "id": "72cee8e6",
      "execution_count": null,
      "outputs": [
        {
          "data": {
            "text/plain": [
              "14"
            ]
          },
          "execution_count": 8,
          "metadata": {},
          "output_type": "execute_result"
        }
      ]
    },
    {
      "cell_type": "markdown",
      "metadata": {
        "id": "801ede35"
      },
      "source": [
        "Проверьте запись в файле newFile.txt"
      ],
      "id": "801ede35"
    },
    {
      "cell_type": "code",
      "metadata": {
        "id": "1de8748f"
      },
      "source": [
        "my_new_file.close()"
      ],
      "id": "1de8748f",
      "execution_count": null,
      "outputs": []
    },
    {
      "cell_type": "markdown",
      "metadata": {
        "id": "8a3821a4"
      },
      "source": [
        "Проверьте еще раз! Запись добавляеться в файл только после его закрытия в программе Python. "
      ],
      "id": "8a3821a4"
    },
    {
      "cell_type": "markdown",
      "metadata": {
        "id": "ca51b627"
      },
      "source": [
        "Выполнение функции open с аргументами 'w', 'w+', 'a', 'a+' позволяет создавать файл если его нет. "
      ],
      "id": "ca51b627"
    },
    {
      "cell_type": "code",
      "metadata": {
        "id": "a48c4cbf",
        "outputId": "dbe5cfc7-ca24-4f74-f60d-5c6728e22f37"
      },
      "source": [
        "my_new_file = open('newFile2.txt', 'w')\n",
        "my_new_file.write('Hello new file')"
      ],
      "id": "a48c4cbf",
      "execution_count": null,
      "outputs": [
        {
          "data": {
            "text/plain": [
              "14"
            ]
          },
          "execution_count": 30,
          "metadata": {},
          "output_type": "execute_result"
        }
      ]
    },
    {
      "cell_type": "markdown",
      "metadata": {
        "id": "71bcc549"
      },
      "source": [
        "Без указания + вывод содержимого открытого файла не возможен! Првоерим это утверждение. "
      ],
      "id": "71bcc549"
    },
    {
      "cell_type": "code",
      "metadata": {
        "id": "43108e0d",
        "outputId": "bf062eee-42b8-454a-8d5b-edd732c18c1b"
      },
      "source": [
        "my_new_file.read()"
      ],
      "id": "43108e0d",
      "execution_count": null,
      "outputs": [
        {
          "ename": "UnsupportedOperation",
          "evalue": "not readable",
          "output_type": "error",
          "traceback": [
            "\u001b[0;31m---------------------------------------------------------------------------\u001b[0m",
            "\u001b[0;31mUnsupportedOperation\u001b[0m                      Traceback (most recent call last)",
            "\u001b[0;32m<ipython-input-10-15ecf622dcbe>\u001b[0m in \u001b[0;36m<module>\u001b[0;34m\u001b[0m\n\u001b[0;32m----> 1\u001b[0;31m \u001b[0mmy_new_file\u001b[0m\u001b[0;34m.\u001b[0m\u001b[0mread\u001b[0m\u001b[0;34m(\u001b[0m\u001b[0;34m)\u001b[0m\u001b[0;34m\u001b[0m\u001b[0;34m\u001b[0m\u001b[0m\n\u001b[0m",
            "\u001b[0;31mUnsupportedOperation\u001b[0m: not readable"
          ]
        }
      ]
    },
    {
      "cell_type": "code",
      "metadata": {
        "id": "5df59a3a",
        "outputId": "98fca916-c997-464b-d382-4e062fbea376"
      },
      "source": [
        "my_new_file = open('newFile.txt', 'w+')\n",
        "print(my_new_file.read())\n",
        "my_new_file.close()"
      ],
      "id": "5df59a3a",
      "execution_count": null,
      "outputs": [
        {
          "name": "stdout",
          "output_type": "stream",
          "text": [
            "Hello new file\n"
          ]
        }
      ]
    },
    {
      "cell_type": "markdown",
      "metadata": {
        "id": "c40a33cc"
      },
      "source": [
        "Из выше проделанных процедур понятно, что тип доступа 'w', 'w+' перезаписывает содержимое файла, но пользователю иногда надо добавить новые данные поверх старых. Это можно сделать с помощью доступа по аргументам 'a' и 'a+'. "
      ],
      "id": "c40a33cc"
    },
    {
      "cell_type": "code",
      "metadata": {
        "id": "87759fd4"
      },
      "source": [
        "my_new_file = open('newFile.txt', 'a+')\n",
        "my_new_file.write('\\n Hello new file')\n",
        "my_new_file.close()"
      ],
      "id": "87759fd4",
      "execution_count": null,
      "outputs": []
    },
    {
      "cell_type": "code",
      "metadata": {
        "id": "5ea79467",
        "outputId": "47d819ff-5714-4a1b-9dbf-187e598752f4"
      },
      "source": [
        "with open('newFile.txt', 'r') as file:\n",
        "    print(file.read())\n",
        "    "
      ],
      "id": "5ea79467",
      "execution_count": null,
      "outputs": [
        {
          "name": "stdout",
          "output_type": "stream",
          "text": [
            "Hello new file\n",
            " Hello new file\n"
          ]
        }
      ]
    },
    {
      "cell_type": "markdown",
      "metadata": {
        "id": "123108e0"
      },
      "source": [
        "Проверьте запись. Удобство работы с командой with, что не обязательно закрывать файл, после выходи из тела with Python его закроет сам. "
      ],
      "id": "123108e0"
    },
    {
      "cell_type": "code",
      "metadata": {
        "id": "e718e920",
        "outputId": "9491ab56-beb6-480e-b813-66b6f935208b"
      },
      "source": [
        "with open('newFile.txt', 'w') as file:\n",
        "    file.write('test')"
      ],
      "id": "e718e920",
      "execution_count": null,
      "outputs": [
        {
          "ename": "ValueError",
          "evalue": "I/O operation on closed file.",
          "output_type": "error",
          "traceback": [
            "\u001b[0;31m---------------------------------------------------------------------------\u001b[0m",
            "\u001b[0;31mValueError\u001b[0m                                Traceback (most recent call last)",
            "\u001b[0;32m<ipython-input-30-65fc556ac95a>\u001b[0m in \u001b[0;36m<module>\u001b[0;34m\u001b[0m\n\u001b[1;32m      1\u001b[0m \u001b[0;32mwith\u001b[0m \u001b[0mopen\u001b[0m\u001b[0;34m(\u001b[0m\u001b[0;34m'newFile.txt'\u001b[0m\u001b[0;34m,\u001b[0m \u001b[0;34m'w'\u001b[0m\u001b[0;34m)\u001b[0m \u001b[0;32mas\u001b[0m \u001b[0mfile\u001b[0m\u001b[0;34m:\u001b[0m\u001b[0;34m\u001b[0m\u001b[0;34m\u001b[0m\u001b[0m\n\u001b[1;32m      2\u001b[0m     \u001b[0mfile\u001b[0m\u001b[0;34m.\u001b[0m\u001b[0mwrite\u001b[0m\u001b[0;34m(\u001b[0m\u001b[0;34m'test'\u001b[0m\u001b[0;34m)\u001b[0m\u001b[0;34m\u001b[0m\u001b[0;34m\u001b[0m\u001b[0m\n\u001b[0;32m----> 3\u001b[0;31m \u001b[0mfile\u001b[0m\u001b[0;34m.\u001b[0m\u001b[0mread\u001b[0m\u001b[0;34m(\u001b[0m\u001b[0;34m)\u001b[0m\u001b[0;34m\u001b[0m\u001b[0;34m\u001b[0m\u001b[0m\n\u001b[0m",
            "\u001b[0;31mValueError\u001b[0m: I/O operation on closed file."
          ]
        }
      ]
    },
    {
      "cell_type": "code",
      "metadata": {
        "id": "827219c4",
        "outputId": "da3acd10-61e9-4c76-a804-6750d8a3ee86"
      },
      "source": [
        "with open('newFile.txt', 'w+') as file:\n",
        "    print(file.read())\n"
      ],
      "id": "827219c4",
      "execution_count": null,
      "outputs": [
        {
          "name": "stdout",
          "output_type": "stream",
          "text": [
            "\n"
          ]
        },
        {
          "ename": "ValueError",
          "evalue": "I/O operation on closed file.",
          "output_type": "error",
          "traceback": [
            "\u001b[0;31m---------------------------------------------------------------------------\u001b[0m",
            "\u001b[0;31mValueError\u001b[0m                                Traceback (most recent call last)",
            "\u001b[0;32m<ipython-input-29-1c51b096a189>\u001b[0m in \u001b[0;36m<module>\u001b[0;34m\u001b[0m\n\u001b[1;32m      3\u001b[0m \u001b[0;34m\u001b[0m\u001b[0m\n\u001b[1;32m      4\u001b[0m \u001b[0;31m# here the file was closed!\u001b[0m\u001b[0;34m\u001b[0m\u001b[0;34m\u001b[0m\u001b[0;34m\u001b[0m\u001b[0m\n\u001b[0;32m----> 5\u001b[0;31m \u001b[0mfile\u001b[0m\u001b[0;34m.\u001b[0m\u001b[0mread\u001b[0m\u001b[0;34m(\u001b[0m\u001b[0;34m)\u001b[0m\u001b[0;34m\u001b[0m\u001b[0;34m\u001b[0m\u001b[0m\n\u001b[0m",
            "\u001b[0;31mValueError\u001b[0m: I/O operation on closed file."
          ]
        }
      ]
    },
    {
      "cell_type": "markdown",
      "metadata": {
        "id": "f40e8041"
      },
      "source": [
        "Перезапишим значение из одного файла в другой"
      ],
      "id": "f40e8041"
    },
    {
      "cell_type": "code",
      "metadata": {
        "id": "d0adc98b"
      },
      "source": [
        "with open('newFile.txt', 'r') as file1, open('newfile3.txt', 'w+') as file2:\n",
        "    data = file1.read()\n",
        "    file2.write(data)"
      ],
      "id": "d0adc98b",
      "execution_count": null,
      "outputs": []
    }
  ]
}