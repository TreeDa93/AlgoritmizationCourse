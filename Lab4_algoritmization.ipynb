{
  "nbformat": 4,
  "nbformat_minor": 0,
  "metadata": {
    "colab": {
      "name": "Lab4_algoritmization.ipynb",
      "provenance": [],
      "collapsed_sections": [],
      "authorship_tag": "ABX9TyNGItofkB30c6pdvObsEXIL",
      "include_colab_link": true
    },
    "kernelspec": {
      "name": "python3",
      "display_name": "Python 3"
    },
    "language_info": {
      "name": "python"
    }
  },
  "cells": [
    {
      "cell_type": "markdown",
      "metadata": {
        "id": "view-in-github",
        "colab_type": "text"
      },
      "source": [
        "<a href=\"https://colab.research.google.com/github/TreeDa93/AlgoritmizationCourse/blob/main/Lab4_algoritmization.ipynb\" target=\"_parent\"><img src=\"https://colab.research.google.com/assets/colab-badge.svg\" alt=\"Open In Colab\"/></a>"
      ]
    },
    {
      "cell_type": "markdown",
      "metadata": {
        "id": "_haZCg-cKlb8"
      },
      "source": [
        ""
      ]
    },
    {
      "cell_type": "markdown",
      "metadata": {
        "id": "Ycfxkcc0i_H3"
      },
      "source": [
        "# Лабораторная работа № 4. Использование простых и сложных циклов для реализации математических расчетов. "
      ]
    },
    {
      "cell_type": "markdown",
      "metadata": {
        "id": "cjY9wY35Xfsf"
      },
      "source": [
        "Цель работы - научиться реализовывать базовый функционал Python для решения задач электротехники с помощью написания алгоритмов.  "
      ]
    },
    {
      "cell_type": "markdown",
      "metadata": {
        "id": "nfue5KJxXhlo"
      },
      "source": [
        "Задачи:\n",
        "\n",
        "Задача 1. Написать код для решения задачи цепи постоянного тока. Сделать проверку решения с помощью логических выражений на основе баланса мощностей. \n",
        "\n",
        "Задача 2. Написать код для решения задачи цепи переменного тока, используя комплексные значения. Сделать проверку решения с помощью логических выражений на основе баланса мощностей. \n",
        "\n",
        "Задача 3. Расчитать цепь переменного тока, используя мгновенные значения тока и напряения с помощью типа перменных массив. Построить основные характеристики.  "
      ]
    },
    {
      "cell_type": "markdown",
      "metadata": {
        "id": "JCBt4qHkUz1n"
      },
      "source": [
        "# Функции range, enumerate и zip"
      ]
    },
    {
      "cell_type": "markdown",
      "metadata": {
        "id": "3UEFgTVdMUkk"
      },
      "source": [
        "**Функция `range()`** часто используется в циклах для создания последовательности количества итераций. Основное назначение функции - это создать последовательность **целых чисел**. Для этого необходимо вызвать функцию `range(start, stop, step)` и задать первое значение диапазона `start`, последнее значение `stop` и шаг `step`. Функция  принимает только целые числа в качестве аргументов. Можно вызвать функцию с одним аргументом `range(stop)`, тогда она создаст иапазон чисел от нуля до `stop` шагом 1. Другой вариант - это задать только начало `start` и конец диапазона `stop`, тогда шаг будет 1. \n",
        "Можно создавать последовательности чисел в убывающем порядке с помощью отрицательного шага. Для этого используют следующие определения в функциях `ragnge()` :\n",
        "\n",
        "**Инкрементация** (прямая последовательность) - увеличение значений диапазона с увеличением порядкого номера. \n",
        "\n",
        "**Декрементация** (обратная последовательность) - снижение значений диапазона с увеличением порядкого номера. \n",
        "\n",
        "**Назначение range**():\n",
        "\n",
        "*   Выполнении тела цикла определенное количество раз\n",
        "*   Создание более эффективных итераций целых чисел, которое может быть выполнено при помощи списков или кортежей.\n",
        "\n"
      ]
    },
    {
      "cell_type": "markdown",
      "metadata": {
        "id": "vm7Ip6qzMU2d"
      },
      "source": [
        "Созадть диапазон чисел от 0 до 10;\n",
        "\n",
        "Создать диапазон чисел от 1 до 10;\n",
        "\n",
        "Создать диапазон чисел от -3 до 10 с шагом 3;\n",
        "\n",
        "Создать диапазон чисел от 20 до -5 с шагом.\n",
        "\n",
        "Вывести этипоследовательности на экран"
      ]
    },
    {
      "cell_type": "code",
      "metadata": {
        "colab": {
          "base_uri": "https://localhost:8080/"
        },
        "id": "Fr-5u0_7SPbP",
        "outputId": "2bc0f631-eec1-4381-b07a-28654294e2a7"
      },
      "source": [
        "range1 = range(10)\n",
        "range2 = range(1, 10)\n",
        "range3 = range(-3, 10, 3)\n",
        "range4 = range(20, -5, -2)\n",
        "print(range1)\n",
        "print(range2)\n",
        "print(range3)\n",
        "print(range4)"
      ],
      "execution_count": null,
      "outputs": [
        {
          "output_type": "stream",
          "name": "stdout",
          "text": [
            "range(0, 10)\n",
            "range(1, 10)\n",
            "range(-3, 10, 3)\n",
            "range(20, -5, -2)\n"
          ]
        }
      ]
    },
    {
      "cell_type": "markdown",
      "metadata": {
        "id": "jbxmgg4RT8Cd"
      },
      "source": [
        "Вывести элементы диапазона на экран. "
      ]
    },
    {
      "cell_type": "code",
      "metadata": {
        "colab": {
          "base_uri": "https://localhost:8080/"
        },
        "id": "UYexH76wTzGt",
        "outputId": "149c6306-4b59-4d19-fd95-7e2e8eae987c"
      },
      "source": [
        "range1[:]\n",
        "range2[:2]\n",
        "print(list(range4))"
      ],
      "execution_count": null,
      "outputs": [
        {
          "output_type": "stream",
          "name": "stdout",
          "text": [
            "[20, 18, 16, 14, 12, 10, 8, 6, 4, 2, 0, -2, -4]\n"
          ]
        }
      ]
    },
    {
      "cell_type": "markdown",
      "metadata": {
        "id": "yoJsY8IGW9fM"
      },
      "source": [
        "Создать диапазон индексов списка. "
      ]
    },
    {
      "cell_type": "code",
      "metadata": {
        "colab": {
          "base_uri": "https://localhost:8080/"
        },
        "id": "nFwvcFThWRn7",
        "outputId": "d3af5230-1772-4a83-957b-0bf6fce51ae2"
      },
      "source": [
        "myList = [1,2, 3, 5, 10]\n",
        "index = range(len(myList))\n",
        "print(index)"
      ],
      "execution_count": null,
      "outputs": [
        {
          "output_type": "stream",
          "name": "stdout",
          "text": [
            "range(0, 5)\n"
          ]
        }
      ]
    },
    {
      "cell_type": "markdown",
      "metadata": {
        "id": "sf4FVMtjVKLt"
      },
      "source": [
        "enumerate()"
      ]
    },
    {
      "cell_type": "markdown",
      "metadata": {
        "id": "N_f_EuWSUbb-"
      },
      "source": [
        "# Цикл for\n",
        "\n",
        "Цикл for предназначен для создания прохода по итерируемому объекту. Этот цикл всегда используется в связке с оператором in. \n",
        "\n",
        "```\n",
        "for element in iter_object:\n",
        "  тело цикла\n",
        "```\n",
        "\n",
        "element - назваиние переменной, хранящая текущее значение переменной (объекта) iter_object. \n",
        "iter_object - итерируемый объект по которому происходит создание цикла и выборка итераций. \n",
        "тело цикла - это код, который будет выполнен в этом цикле. Тело цикла должно иметь сдвиг на четыре пробела или одну табуляцию от оператора if.\n"
      ]
    },
    {
      "cell_type": "markdown",
      "metadata": {
        "id": "pqjJ3FcgXae9"
      },
      "source": [
        "Построить график синусоидального напряжения со значение $U_{max}= 220$ В, используя типы переменных Python список. Для этого необходимо создать два списка данных времени и значений напряжения в каждый момент времени. Частота питания сети 50 Гц. "
      ]
    },
    {
      "cell_type": "code",
      "metadata": {
        "colab": {
          "base_uri": "https://localhost:8080/",
          "height": 283
        },
        "id": "k8DK5-ROXNvm",
        "outputId": "4fba3255-d5bb-420f-c80f-e613fcf89266"
      },
      "source": [
        "import math as ma\n",
        "import matplotlib.pyplot as plt\n",
        "\n",
        "step_time = 0.001\n",
        "nPoints = 50\n",
        "u_max = 220\n",
        "f1 = 50\n",
        "\n",
        "timeList = []\n",
        "valueList = []\n",
        "\n",
        "for index in range(nPoints):\n",
        "  timeList.append(step_time * index)\n",
        "  valueList.append(ma.cos(2*ma.pi*f1*timeList[index]))\n",
        "\n",
        "plt.plot(timeList, valueList)"
      ],
      "execution_count": null,
      "outputs": [
        {
          "output_type": "execute_result",
          "data": {
            "text/plain": [
              "[<matplotlib.lines.Line2D at 0x7fee794ba850>]"
            ]
          },
          "metadata": {},
          "execution_count": 30
        },
        {
          "output_type": "display_data",
          "data": {
            "image/png": "[encoded data removed]",
            "text/plain": [
              "<Figure size 432x288 with 1 Axes>"
            ]
          },
          "metadata": {
            "needs_background": "light"
          }
        }
      ]
    },
    {
      "cell_type": "code",
      "metadata": {
        "id": "4jXfD27Nfj0R"
      },
      "source": [
        "Создать цикл, который переводи температуру из градусов Цельсия в Фарингейты и Кельвины. \n",
        "Вывести табличку на экран. \n",
        "\n",
        "$$\n",
        "T_k = T_c + 273.15 \\\\\n",
        "T_f = 9/5 T_c +32\n",
        "\n",
        "$$"
      ],
      "execution_count": null,
      "outputs": []
    },
    {
      "cell_type": "code",
      "metadata": {
        "colab": {
          "base_uri": "https://localhost:8080/"
        },
        "id": "b6jQHjHog-pG",
        "outputId": "d1e00c72-306c-4140-e613-841784d1ba72"
      },
      "source": [
        "T_c = list(range(-50, 50, 5))\n",
        "T_k = []\n",
        "T_f = []\n",
        "print('Temperature', 'C', 'K', 'F')\n",
        "for T in T_c:\n",
        "  T_k.append(T+273.15)\n",
        "  T_f.append(9/5 *T +32)\n",
        "print(T_c, T_k, T_f)"
      ],
      "execution_count": null,
      "outputs": [
        {
          "output_type": "stream",
          "name": "stdout",
          "text": [
            "Temperature C K F\n",
            "[-50, -45, -40, -35, -30, -25, -20, -15, -10, -5, 0, 5, 10, 15, 20, 25, 30, 35, 40, 45] [223.14999999999998, 228.14999999999998, 233.14999999999998, 238.14999999999998, 243.14999999999998, 248.14999999999998, 253.14999999999998, 258.15, 263.15, 268.15, 273.15, 278.15, 283.15, 288.15, 293.15, 298.15, 303.15, 308.15, 313.15, 318.15] [-58.0, -49.0, -40.0, -31.0, -22.0, -13.0, -4.0, 5.0, 14.0, 23.0, 32.0, 41.0, 50.0, 59.0, 68.0, 77.0, 86.0, 95.0, 104.0, 113.0]\n"
          ]
        }
      ]
    },
    {
      "cell_type": "markdown",
      "metadata": {
        "id": "VP54YT4xkBtl"
      },
      "source": [
        "Реализовать этот цикл с использованеие счетчика i+=1 для вычисления номера итерации и порядка в листе. "
      ]
    },
    {
      "cell_type": "code",
      "metadata": {
        "colab": {
          "base_uri": "https://localhost:8080/"
        },
        "id": "3gu60DDmiC3R",
        "outputId": "43683ff2-e4d6-47dd-de01-46381945e38f"
      },
      "source": [
        "print('C', 'K', 'F')\n",
        "i = 0\n",
        "for T in T_c:\n",
        "  T_k.append(T+273.15)\n",
        "  T_f.append(9.0/5 *T +32)\n",
        "  print(T_c[i], round(T_k[i], 2), T_f[i])\n",
        "  i+=1"
      ],
      "execution_count": null,
      "outputs": [
        {
          "output_type": "stream",
          "name": "stdout",
          "text": [
            "C K F\n",
            "-50 223.15 -58.0\n",
            "-45 228.15 -49.0\n",
            "-40 233.15 -40.0\n",
            "-35 238.15 -31.0\n",
            "-30 243.15 -22.0\n",
            "-25 248.15 -13.0\n",
            "-20 253.15 -4.0\n",
            "-15 258.15 5.0\n",
            "-10 263.15 14.0\n",
            "-5 268.15 23.0\n",
            "0 273.15 32.0\n",
            "5 278.15 41.0\n",
            "10 283.15 50.0\n",
            "15 288.15 59.0\n",
            "20 293.15 68.0\n",
            "25 298.15 77.0\n",
            "30 303.15 86.0\n",
            "35 308.15 95.0\n",
            "40 313.15 104.0\n",
            "45 318.15 113.0\n"
          ]
        }
      ]
    },
    {
      "cell_type": "code",
      "metadata": {
        "colab": {
          "base_uri": "https://localhost:8080/"
        },
        "id": "PD2937fBjCGe",
        "outputId": "5aaceccd-2664-4bc1-ef51-d87f131a185b"
      },
      "source": [
        "print('C', 'K', 'F')\n",
        "for index in range(len(T_c)):\n",
        "  T_k.append(T_c[index]+273.15)\n",
        "  T_f.append(9.0/5 * T_c[index] +32)\n",
        "  print(T_c[index], round(T_k[index], 2), T_f[index])"
      ],
      "execution_count": null,
      "outputs": [
        {
          "output_type": "stream",
          "name": "stdout",
          "text": [
            "C K F\n",
            "-50 223.15 -58.0\n",
            "-45 228.15 -49.0\n",
            "-40 233.15 -40.0\n",
            "-35 238.15 -31.0\n",
            "-30 243.15 -22.0\n",
            "-25 248.15 -13.0\n",
            "-20 253.15 -4.0\n",
            "-15 258.15 5.0\n",
            "-10 263.15 14.0\n",
            "-5 268.15 23.0\n",
            "0 273.15 32.0\n",
            "5 278.15 41.0\n",
            "10 283.15 50.0\n",
            "15 288.15 59.0\n",
            "20 293.15 68.0\n",
            "25 298.15 77.0\n",
            "30 303.15 86.0\n",
            "35 308.15 95.0\n",
            "40 313.15 104.0\n",
            "45 318.15 113.0\n"
          ]
        }
      ]
    },
    {
      "cell_type": "markdown",
      "metadata": {
        "id": "hJkn4mucisig"
      },
      "source": [
        "Вместо использование счетчика i и range, использовать функцию enumerate. \n",
        "Функция enumerate является аналогом функции range, только возвращает не только индексы, но и его значения. "
      ]
    },
    {
      "cell_type": "code",
      "metadata": {
        "colab": {
          "base_uri": "https://localhost:8080/"
        },
        "id": "oaKJ1dLCjgyB",
        "outputId": "33a1d7b7-484d-4129-ea57-9d472312cfd2"
      },
      "source": [
        "print('C', 'K', 'F')\n",
        "for index, value in enumerate(T_c):\n",
        "  T_k.append(value+273.15)\n",
        "  T_f.append(9.0/5 * value +32)\n",
        "  print(value, round(T_k[index], 2), T_f[index])"
      ],
      "execution_count": null,
      "outputs": [
        {
          "output_type": "stream",
          "name": "stdout",
          "text": [
            "C K F\n",
            "-50 223.15 -58.0\n",
            "-45 228.15 -49.0\n",
            "-40 233.15 -40.0\n",
            "-35 238.15 -31.0\n",
            "-30 243.15 -22.0\n",
            "-25 248.15 -13.0\n",
            "-20 253.15 -4.0\n",
            "-15 258.15 5.0\n",
            "-10 263.15 14.0\n",
            "-5 268.15 23.0\n",
            "0 273.15 32.0\n",
            "5 278.15 41.0\n",
            "10 283.15 50.0\n",
            "15 288.15 59.0\n",
            "20 293.15 68.0\n",
            "25 298.15 77.0\n",
            "30 303.15 86.0\n",
            "35 308.15 95.0\n",
            "40 313.15 104.0\n",
            "45 318.15 113.0\n"
          ]
        }
      ]
    },
    {
      "cell_type": "markdown",
      "metadata": {
        "id": "59dHU6jek-8u"
      },
      "source": [
        "Компактная запись"
      ]
    },
    {
      "cell_type": "code",
      "metadata": {
        "colab": {
          "base_uri": "https://localhost:8080/"
        },
        "id": "FRe6F6Cmk2Et",
        "outputId": "389159f5-8382-49db-bca9-1dc8507f69ac"
      },
      "source": [
        "my_printer = [print((value, round(9/5* value+ 32,2), round(9.0/5 * value +32, 2))) for value in T_c]"
      ],
      "execution_count": null,
      "outputs": [
        {
          "output_type": "stream",
          "name": "stdout",
          "text": [
            "(-50, -58.0, -58.0)\n",
            "(-45, -49.0, -49.0)\n",
            "(-40, -40.0, -40.0)\n",
            "(-35, -31.0, -31.0)\n",
            "(-30, -22.0, -22.0)\n",
            "(-25, -13.0, -13.0)\n",
            "(-20, -4.0, -4.0)\n",
            "(-15, 5.0, 5.0)\n",
            "(-10, 14.0, 14.0)\n",
            "(-5, 23.0, 23.0)\n",
            "(0, 32.0, 32.0)\n",
            "(5, 41.0, 41.0)\n",
            "(10, 50.0, 50.0)\n",
            "(15, 59.0, 59.0)\n",
            "(20, 68.0, 68.0)\n",
            "(25, 77.0, 77.0)\n",
            "(30, 86.0, 86.0)\n",
            "(35, 95.0, 95.0)\n",
            "(40, 104.0, 104.0)\n",
            "(45, 113.0, 113.0)\n"
          ]
        }
      ]
    },
    {
      "cell_type": "markdown",
      "metadata": {
        "id": "brv_VNecn2hE"
      },
      "source": [
        "Компактная запись с помощью функции `zip()`. Функция zip() позволяет проходить по нескольким спискам (итерируемым объектам одновременно). Функция zip(lists) принимает в качестве аргументов набор итерируемых переменных, например, списков, словарей, строк, а возвращает специальный zip объект, состоящий из кортежей. Этот кортеж состоит из элементов поданных списков-аргументов в порядке упоминания их в функции. Если итеративные переменные имеют различную длину, функция zip() создаст объект, длина которого будет равна меньшему списку. "
      ]
    },
    {
      "cell_type": "code",
      "metadata": {
        "colab": {
          "base_uri": "https://localhost:8080/"
        },
        "id": "ThOOXan5m2Yj",
        "outputId": "87c0e6d9-cf0f-429e-9595-28917dd5105d"
      },
      "source": [
        "T_k = [round(value + 273.15, 2) for value in T_c]\n",
        "T_f = [round(9/5 * value + 32, 2) for value in T_c]\n",
        "\n",
        "for currnet_val in zip(T_c, T_k, T_f):\n",
        "  print(currnet_val)"
      ],
      "execution_count": null,
      "outputs": [
        {
          "output_type": "stream",
          "name": "stdout",
          "text": [
            "(-50, 223.15, -58.0)\n",
            "(-45, 228.15, -49.0)\n",
            "(-40, 233.15, -40.0)\n",
            "(-35, 238.15, -31.0)\n",
            "(-30, 243.15, -22.0)\n",
            "(-25, 248.15, -13.0)\n",
            "(-20, 253.15, -4.0)\n",
            "(-15, 258.15, 5.0)\n",
            "(-10, 263.15, 14.0)\n",
            "(-5, 268.15, 23.0)\n",
            "(0, 273.15, 32.0)\n",
            "(5, 278.15, 41.0)\n",
            "(10, 283.15, 50.0)\n",
            "(15, 288.15, 59.0)\n",
            "(20, 293.15, 68.0)\n",
            "(25, 298.15, 77.0)\n",
            "(30, 303.15, 86.0)\n",
            "(35, 308.15, 95.0)\n",
            "(40, 313.15, 104.0)\n",
            "(45, 318.15, 113.0)\n"
          ]
        }
      ]
    },
    {
      "cell_type": "code",
      "metadata": {
        "colab": {
          "base_uri": "https://localhost:8080/"
        },
        "id": "WxCDHoXanwQw",
        "outputId": "6a3bb23c-1bc0-4afe-bf49-8243ad1cb9ef"
      },
      "source": [
        "for Tc, Tk, Tf in zip(T_c, T_k, T_f):\n",
        "  print(Tc, Tk, Tf)"
      ],
      "execution_count": null,
      "outputs": [
        {
          "output_type": "stream",
          "name": "stdout",
          "text": [
            "-50 223.15 -58.0\n",
            "-45 228.15 -49.0\n",
            "-40 233.15 -40.0\n",
            "-35 238.15 -31.0\n",
            "-30 243.15 -22.0\n",
            "-25 248.15 -13.0\n",
            "-20 253.15 -4.0\n",
            "-15 258.15 5.0\n",
            "-10 263.15 14.0\n",
            "-5 268.15 23.0\n",
            "0 273.15 32.0\n",
            "5 278.15 41.0\n",
            "10 283.15 50.0\n",
            "15 288.15 59.0\n",
            "20 293.15 68.0\n",
            "25 298.15 77.0\n",
            "30 303.15 86.0\n",
            "35 308.15 95.0\n",
            "40 313.15 104.0\n",
            "45 318.15 113.0\n"
          ]
        }
      ]
    },
    {
      "cell_type": "code",
      "metadata": {
        "colab": {
          "base_uri": "https://localhost:8080/"
        },
        "id": "51yVr-_jonKH",
        "outputId": "2dd1196a-635a-4ddb-c5f6-386869abdcc6"
      },
      "source": [
        "list1 = [1,2,3, 5]\n",
        "list2 = [2,3,4]\n",
        "\n",
        "for test in zip(list1, list2):\n",
        "  print(test)"
      ],
      "execution_count": null,
      "outputs": [
        {
          "output_type": "stream",
          "name": "stdout",
          "text": [
            "(1, 2)\n",
            "(2, 3)\n",
            "(3, 4)\n"
          ]
        }
      ]
    },
    {
      "cell_type": "markdown",
      "metadata": {
        "id": "eSuxpsqeUnfm"
      },
      "source": [
        "# Цикл с while\n",
        "\n",
        "Цикл while выполняет тело цикла пока выражение истинное. Синтаксис цикла \n",
        "\n",
        "\n",
        "\n",
        "```\n",
        "while logical_expression:\n",
        "  body_loop\n",
        "\n",
        "else: \n",
        "  этот код будет выполнен один раз после окончания\n",
        "```\n"
      ]
    },
    {
      "cell_type": "code",
      "metadata": {
        "colab": {
          "base_uri": "https://localhost:8080/"
        },
        "id": "q-7X6gSnKg94",
        "outputId": "53699c43-bf99-49f6-ea6a-6c706dfdc4a8"
      },
      "source": [
        "stop = 4\n",
        "start = 0\n",
        "cur_val = 1\n",
        "cur_num = 1\n",
        "\n",
        "while cur_num!=(stop):\n",
        "  cur_num += 1 \n",
        "  cur_val *= cur_num\n",
        "  print('It is current the number', cur_num)\n",
        "  print('It is current the value', cur_val)\n",
        "else:\n",
        "  print('I have calculated ', cur_val)"
      ],
      "execution_count": null,
      "outputs": [
        {
          "output_type": "stream",
          "name": "stdout",
          "text": [
            "It is current the number 2\n",
            "It is current the value 2\n",
            "It is current the number 3\n",
            "It is current the value 6\n",
            "It is current the number 4\n",
            "It is current the value 24\n",
            "I have calculated  24\n"
          ]
        }
      ]
    },
    {
      "cell_type": "markdown",
      "metadata": {
        "id": "BHbq4CRsUdWJ"
      },
      "source": [
        "# Цикл If и его ветвления\n",
        "\n",
        "Цикл if предназначен для выполнения кода, если заданное выражение истинное. \n",
        "\n",
        "Синтасис простого цикла if\n",
        "\n",
        "```\n",
        "if logical_expression:\n",
        "  body_loop\n",
        "```\n",
        "`logical_expression` - логическое выражение, если оно верное, выполняется код `body_loop`\n",
        "\n",
        "Иногда требуется более сложная проверка логических выражений. Для этого существует ветвление цикла if, такие как `elif` и `else`. \n",
        "```\n",
        "if logical_expr1:\n",
        "  <code1>\n",
        "elif logical_expr2:\n",
        "  <code2>\n",
        "....\n",
        "elif logical_exprn:\n",
        "  <codeN>\n",
        "\n",
        "else:\n",
        "  <codeN+1>\n",
        "```"
      ]
    },
    {
      "cell_type": "markdown",
      "metadata": {
        "id": "5EqNilDapDnI"
      },
      "source": [
        "Расчет цепи постоянного тока. \n",
        "Дано: параметры источника питания $E_1 = 10 $ В со внутреним сопротивлением $r_1 = 0.01$ Ом , и параметры приемника сопротивлением $ R_1 = 10 Ом $. Источник и приемник включены последовательно. Расчитать ток в цепи, падаение напряжения на источник и приемнике, выделяемая мощность на приемнике. Проверить результаты с помощью баланса мощностей. "
      ]
    },
    {
      "cell_type": "code",
      "metadata": {
        "id": "N6uZ5GLsi9jC"
      },
      "source": [
        "R1 = 10 \n",
        "r1 = 0.01\n",
        "E1 = 10 "
      ],
      "execution_count": null,
      "outputs": []
    },
    {
      "cell_type": "code",
      "metadata": {
        "colab": {
          "base_uri": "https://localhost:8080/"
        },
        "id": "06ONO9JbrIV2",
        "outputId": "2db1cbf4-5f63-410a-8112-5457a92cd205"
      },
      "source": [
        "I1 = E1/(r1+R1)\n",
        "U_source = I1 * r1\n",
        "U_load = I1 * R1\n",
        "\n",
        "print(\"Ток в цепи \", I1, \", напряжение на источнике \", U_source, \n",
        "      ' напряжение на приемнике', U_load)"
      ],
      "execution_count": null,
      "outputs": [
        {
          "output_type": "stream",
          "name": "stdout",
          "text": [
            "Ток в цепи  0.999000999000999 , напряжение на источнике  0.00999000999000999  напряжение на приемнике 9.990009990009991\n"
          ]
        }
      ]
    },
    {
      "cell_type": "code",
      "metadata": {
        "colab": {
          "base_uri": "https://localhost:8080/"
        },
        "id": "IF43g2aHtEXb",
        "outputId": "4bc86507-224d-4e47-ac4c-70b044834833"
      },
      "source": [
        "P_source = I1*E1\n",
        "deltaP1 = I1*r1 # потери на источнике\n",
        "deltaP2 = I1*R1 # потери на приемнике \n",
        "deltaP = deltaP1 + deltaP2\n",
        "print(round(deltaP, 1), round(P_source, 1))"
      ],
      "execution_count": null,
      "outputs": [
        {
          "output_type": "stream",
          "name": "stdout",
          "text": [
            "10.0 10.0\n"
          ]
        }
      ]
    },
    {
      "cell_type": "code",
      "metadata": {
        "colab": {
          "base_uri": "https://localhost:8080/"
        },
        "id": "7sCdPMvctaxy",
        "outputId": "2e4d6390-4bd6-49a4-e251-173a6454d25f"
      },
      "source": [
        "tester = round(deltaP) == round(P_source)\n",
        "if tester == True:\n",
        "  print('Wow I ahve solved it correctly')"
      ],
      "execution_count": null,
      "outputs": [
        {
          "output_type": "stream",
          "name": "stdout",
          "text": [
            "Wow I ahve solved it correctly\n"
          ]
        }
      ]
    },
    {
      "cell_type": "markdown",
      "metadata": {
        "id": "45ZgEI55bzm_"
      },
      "source": [
        "Напишем сложную функцию и построим ее. \n",
        "$$\n",
        "f(x) = exp(2x), for x < 0 \\\\\n",
        "f(x) = 3x, for 0<=x<20 \\\\\n",
        "f(x) = x^2 for 20<=x<100 \\\\\n",
        "f(x) = ln(x) else\n",
        "$$"
      ]
    },
    {
      "cell_type": "code",
      "metadata": {
        "colab": {
          "base_uri": "https://localhost:8080/",
          "height": 283
        },
        "id": "Bi4YBFietl_7",
        "outputId": "1cd58edb-806d-4c5c-cdb5-0b7be0b71402"
      },
      "source": [
        "import math as ma\n",
        "import matplotlib.pyplot as plt\n",
        "x = list(range(-30,200, 2))\n",
        "value = []\n",
        "for xi in x:\n",
        "  if xi<0:\n",
        "    value.append(ma.exp(2 * xi))\n",
        "  elif xi>=0 and xi<20:\n",
        "    value.append(3*xi+300)\n",
        "  elif xi<=20 and xi<100:\n",
        "    value.append(xi**2)\n",
        "  else:\n",
        "    value.append(ma.log(xi)+300)\n",
        "\n",
        "plt.plot(x, value)\n",
        "\n"
      ],
      "execution_count": null,
      "outputs": [
        {
          "output_type": "execute_result",
          "data": {
            "text/plain": [
              "[<matplotlib.lines.Line2D at 0x7fee78f63c50>]"
            ]
          },
          "metadata": {},
          "execution_count": 70
        },
        {
          "output_type": "display_data",
          "data": {
            "image/png": "[encoded data removed]",
            "text/plain": [
              "<Figure size 432x288 with 1 Axes>"
            ]
          },
          "metadata": {
            "needs_background": "light"
          }
        }
      ]
    }
  ]
}